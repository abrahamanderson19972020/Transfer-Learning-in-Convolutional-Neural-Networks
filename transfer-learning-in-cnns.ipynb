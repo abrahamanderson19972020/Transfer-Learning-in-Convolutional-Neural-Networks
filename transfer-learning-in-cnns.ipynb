{
 "cells": [
  {
   "cell_type": "code",
   "execution_count": 1,
   "id": "hindu-hindu",
   "metadata": {
    "_cell_guid": "b1076dfc-b9ad-4769-8c92-a6c4dae69d19",
    "_uuid": "8f2839f25d086af736a60e9eeb907d3b93b6e0e5",
    "execution": {
     "iopub.execute_input": "2021-06-01T12:00:18.648210Z",
     "iopub.status.busy": "2021-06-01T12:00:18.646467Z",
     "iopub.status.idle": "2021-06-01T12:00:18.669518Z",
     "shell.execute_reply": "2021-06-01T12:00:18.670116Z",
     "shell.execute_reply.started": "2021-06-01T11:17:47.131969Z"
    },
    "papermill": {
     "duration": 0.066826,
     "end_time": "2021-06-01T12:00:18.670443",
     "exception": false,
     "start_time": "2021-06-01T12:00:18.603617",
     "status": "completed"
    },
    "tags": []
   },
   "outputs": [
    {
     "name": "stdout",
     "output_type": "stream",
     "text": [
      "/kaggle/input/elephant/elephant.jfif\n",
      "/kaggle/input/download1/download.jfif\n",
      "/kaggle/input/dogs-vs-cats-redux-kernels-edition/sample_submission.csv\n",
      "/kaggle/input/dogs-vs-cats-redux-kernels-edition/train.zip\n",
      "/kaggle/input/dogs-vs-cats-redux-kernels-edition/test.zip\n"
     ]
    }
   ],
   "source": [
    "# This Python 3 environment comes with many helpful analytics libraries installed\n",
    "# It is defined by the kaggle/python Docker image: https://github.com/kaggle/docker-python\n",
    "# For example, here's several helpful packages to load\n",
    "\n",
    "import numpy as np # linear algebra\n",
    "import pandas as pd # data processing, CSV file I/O (e.g. pd.read_csv)\n",
    "\n",
    "# Input data files are available in the read-only \"../input/\" directory\n",
    "# For example, running this (by clicking run or pressing Shift+Enter) will list all files under the input directory\n",
    "\n",
    "import os\n",
    "for dirname, _, filenames in os.walk('/kaggle/input'):\n",
    "    for filename in filenames:\n",
    "        print(os.path.join(dirname, filename))\n",
    "\n",
    "# You can write up to 20GB to the current directory (/kaggle/working/) that gets preserved as output when you create a version using \"Save & Run All\" \n",
    "# You can also write temporary files to /kaggle/temp/, but they won't be saved outside of the current session"
   ]
  },
  {
   "cell_type": "code",
   "execution_count": 2,
   "id": "defensive-documentation",
   "metadata": {
    "execution": {
     "iopub.execute_input": "2021-06-01T12:00:18.749347Z",
     "iopub.status.busy": "2021-06-01T12:00:18.748408Z",
     "iopub.status.idle": "2021-06-01T12:00:19.624798Z",
     "shell.execute_reply": "2021-06-01T12:00:19.625407Z",
     "shell.execute_reply.started": "2021-06-01T11:17:47.154553Z"
    },
    "papermill": {
     "duration": 0.917077,
     "end_time": "2021-06-01T12:00:19.625669",
     "exception": false,
     "start_time": "2021-06-01T12:00:18.708592",
     "status": "completed"
    },
    "tags": []
   },
   "outputs": [],
   "source": [
    "import matplotlib.pyplot as plt\n",
    "import seaborn as sns"
   ]
  },
  {
   "cell_type": "markdown",
   "id": "facial-cambridge",
   "metadata": {
    "papermill": {
     "duration": 0.039802,
     "end_time": "2021-06-01T12:00:19.710412",
     "exception": false,
     "start_time": "2021-06-01T12:00:19.670610",
     "status": "completed"
    },
    "tags": []
   },
   "source": [
    "## 1. What is Transfer learning:"
   ]
  },
  {
   "cell_type": "markdown",
   "id": "southwest-tongue",
   "metadata": {
    "papermill": {
     "duration": 0.04141,
     "end_time": "2021-06-01T12:00:19.792751",
     "exception": false,
     "start_time": "2021-06-01T12:00:19.751341",
     "status": "completed"
    },
    "tags": []
   },
   "source": [
    "<font color =\"blue\">\n",
    "Transfer learning consists of taking features learned on one problem, and leveraging them on a new, similar problem. For instance, features from a model that has learned to identify racoons may be useful to kick-start a model meant to identify tanukis.\n",
    "\n",
    "Transfer learning is usually done for tasks where your dataset has too little data to train a full-scale model from scratch."
   ]
  },
  {
   "cell_type": "markdown",
   "id": "single-victor",
   "metadata": {
    "papermill": {
     "duration": 0.042937,
     "end_time": "2021-06-01T12:00:19.876178",
     "exception": false,
     "start_time": "2021-06-01T12:00:19.833241",
     "status": "completed"
    },
    "tags": []
   },
   "source": [
    "<font color =\"blue\">\n",
    "A pre-trained model is a saved network that was previously trained on a large dataset, typically on a large-scale image-classification task. You either use the pretrained model as is or use transfer learning to customize this model to a given task.\n",
    "\n",
    "The intuition behind transfer learning for image classification is that if a model is trained on a large and general enough dataset, this model will effectively serve as a generic model of the visual world. You can then take advantage of these learned feature maps without having to start from scratch by training a large model on a large dataset."
   ]
  },
  {
   "cell_type": "markdown",
   "id": "lovely-vienna",
   "metadata": {
    "papermill": {
     "duration": 0.04086,
     "end_time": "2021-06-01T12:00:19.956683",
     "exception": false,
     "start_time": "2021-06-01T12:00:19.915823",
     "status": "completed"
    },
    "tags": []
   },
   "source": [
    "<font color =\"red\">\n",
    "1. Feature Extraction: Use the representations learned by a previous network to extract meaningful features from new samples. You simply add a new classifier, which will be trained from scratch, on top of the pretrained model so that you can repurpose the feature maps learned previously for the dataset.\n",
    "\n",
    "You do not need to (re)train the entire model. The base convolutional network already contains features that are generically useful for classifying pictures. However, the final, classification part of the pretrained model is specific to the original classification task, and subsequently specific to the set of classes on which the model was trained."
   ]
  },
  {
   "cell_type": "markdown",
   "id": "partial-redhead",
   "metadata": {
    "papermill": {
     "duration": 0.038769,
     "end_time": "2021-06-01T12:00:20.035275",
     "exception": false,
     "start_time": "2021-06-01T12:00:19.996506",
     "status": "completed"
    },
    "tags": []
   },
   "source": [
    "<font color =\"red\">\n",
    "2. Fine-Tuning: Unfreeze a few of the top layers of a frozen model base and jointly train both the newly-added classifier layers and the last layers of the base model. This allows us to \"fine-tune\" the higher-order feature representations in the base model in order to make them more relevant for the specific task."
   ]
  },
  {
   "cell_type": "markdown",
   "id": "accurate-respondent",
   "metadata": {
    "papermill": {
     "duration": 0.051349,
     "end_time": "2021-06-01T12:00:20.139803",
     "exception": false,
     "start_time": "2021-06-01T12:00:20.088454",
     "status": "completed"
    },
    "tags": []
   },
   "source": [
    "<font color =\"green\">\n",
    "You will follow the general machine learning workflow.\n",
    "\n",
    "1. Take layers from a previously trained model.\n",
    "    \n",
    "2. Freeze them, so as to avoid destroying any of the information they contain during future training rounds.\n",
    "\n",
    "3. Add some new, trainable layers on top of the frozen layers. They will learn to turn the old features into predictions on a new dataset.\n",
    "\n",
    "4. Train the new layers on your dataset.\n",
    "\n"
   ]
  },
  {
   "cell_type": "markdown",
   "id": "olympic-cleaning",
   "metadata": {
    "papermill": {
     "duration": 0.043935,
     "end_time": "2021-06-01T12:00:20.228430",
     "exception": false,
     "start_time": "2021-06-01T12:00:20.184495",
     "status": "completed"
    },
    "tags": []
   },
   "source": [
    "## 1. Using Transfer Learning Without Using Our Own Layers"
   ]
  },
  {
   "cell_type": "markdown",
   "id": "recorded-wichita",
   "metadata": {
    "papermill": {
     "duration": 0.039559,
     "end_time": "2021-06-01T12:00:20.309174",
     "exception": false,
     "start_time": "2021-06-01T12:00:20.269615",
     "status": "completed"
    },
    "tags": []
   },
   "source": [
    "## Examples from Resnet50:"
   ]
  },
  {
   "cell_type": "markdown",
   "id": "elect-compiler",
   "metadata": {
    "papermill": {
     "duration": 0.039554,
     "end_time": "2021-06-01T12:00:20.388725",
     "exception": false,
     "start_time": "2021-06-01T12:00:20.349171",
     "status": "completed"
    },
    "tags": []
   },
   "source": [
    "<font color=\"blue\">\n",
    "ResNet-50 is a convolutional neural network that is 50 layers deep. You can load a pretrained version of the network trained on more than a million images from the ImageNet database [1]. The pretrained network can classify images into 1000 object categories, such as keyboard, mouse, pencil, and many animals. As a result, the network has learned rich feature representations for a wide range of images. The network has an image input size of 224-by-224.\n",
    "\n",
    "         ResNet50(include_top=True, weights='imagenet', input_tensor=None, input_shape=None, pooling=None, classes=1000, **kwargs)"
   ]
  },
  {
   "cell_type": "code",
   "execution_count": 3,
   "id": "municipal-tyler",
   "metadata": {
    "execution": {
     "iopub.execute_input": "2021-06-01T12:00:20.472377Z",
     "iopub.status.busy": "2021-06-01T12:00:20.471257Z",
     "iopub.status.idle": "2021-06-01T12:00:20.711221Z",
     "shell.execute_reply": "2021-06-01T12:00:20.711785Z",
     "shell.execute_reply.started": "2021-06-01T11:17:47.163789Z"
    },
    "papermill": {
     "duration": 0.28394,
     "end_time": "2021-06-01T12:00:20.712014",
     "exception": false,
     "start_time": "2021-06-01T12:00:20.428074",
     "status": "completed"
    },
    "tags": []
   },
   "outputs": [
    {
     "data": {
      "text/plain": [
       "<matplotlib.image.AxesImage at 0x7f5fcc2aa790>"
      ]
     },
     "execution_count": 3,
     "metadata": {},
     "output_type": "execute_result"
    },
    {
     "data": {
      "image/png": "[encoded data removed]",
      "text/plain": [
       "<Figure size 432x288 with 1 Axes>"
      ]
     },
     "metadata": {
      "needs_background": "light"
     },
     "output_type": "display_data"
    }
   ],
   "source": [
    "plt.imshow(plt.imread(\"../input/elephant/elephant.jfif\"))\n",
    "# We have this image and without training our model, we will transfer reshnet50"
   ]
  },
  {
   "cell_type": "code",
   "execution_count": 4,
   "id": "related-theory",
   "metadata": {
    "execution": {
     "iopub.execute_input": "2021-06-01T12:00:20.799960Z",
     "iopub.status.busy": "2021-06-01T12:00:20.799282Z",
     "iopub.status.idle": "2021-06-01T12:00:30.293070Z",
     "shell.execute_reply": "2021-06-01T12:00:30.292391Z",
     "shell.execute_reply.started": "2021-06-01T11:17:47.357556Z"
    },
    "papermill": {
     "duration": 9.538329,
     "end_time": "2021-06-01T12:00:30.293245",
     "exception": false,
     "start_time": "2021-06-01T12:00:20.754916",
     "status": "completed"
    },
    "tags": []
   },
   "outputs": [
    {
     "name": "stdout",
     "output_type": "stream",
     "text": [
      "Downloading data from https://storage.googleapis.com/tensorflow/keras-applications/resnet/resnet50_weights_tf_dim_ordering_tf_kernels.h5\n",
      "102973440/102967424 [==============================] - 1s 0us/step\n",
      "Downloading data from https://storage.googleapis.com/download.tensorflow.org/data/imagenet_class_index.json\n",
      "40960/35363 [==================================] - 0s 0us/step\n",
      "Predicted: [('n01871265', 'tusker', 0.5553246), ('n02504458', 'African_elephant', 0.37550497), ('n02504013', 'Indian_elephant', 0.0690713)]\n"
     ]
    }
   ],
   "source": [
    "from tensorflow.keras.applications.resnet50 import ResNet50\n",
    "from tensorflow.keras.preprocessing import image\n",
    "from tensorflow.keras.applications.resnet50 import preprocess_input, decode_predictions\n",
    "import numpy as np\n",
    "\n",
    "model = ResNet50(weights='imagenet')\n",
    "\n",
    "img_path = '../input/elephant/elephant.jfif'\n",
    "img = image.load_img(img_path, target_size=(224, 224))\n",
    "# we convert imgae into 224*224 because resnet has this size of images\n",
    "x = image.img_to_array(img)\n",
    "x = np.expand_dims(x, axis=0)\n",
    "x = preprocess_input(x)\n",
    "\n",
    "preds = model.predict(x)\n",
    "# decode the results into a list of tuples (class, description, probability)\n",
    "# (one such list for each sample in the batch)\n",
    "print('Predicted:', decode_predictions(preds, top=3)[0])"
   ]
  },
  {
   "cell_type": "code",
   "execution_count": 5,
   "id": "ranking-potter",
   "metadata": {
    "execution": {
     "iopub.execute_input": "2021-06-01T12:00:30.400584Z",
     "iopub.status.busy": "2021-06-01T12:00:30.399514Z",
     "iopub.status.idle": "2021-06-01T12:00:30.404542Z",
     "shell.execute_reply": "2021-06-01T12:00:30.403881Z",
     "shell.execute_reply.started": "2021-06-01T11:17:50.118231Z"
    },
    "papermill": {
     "duration": 0.061493,
     "end_time": "2021-06-01T12:00:30.404720",
     "exception": false,
     "start_time": "2021-06-01T12:00:30.343227",
     "status": "completed"
    },
    "tags": []
   },
   "outputs": [
    {
     "data": {
      "text/plain": [
       "1000"
      ]
     },
     "execution_count": 5,
     "metadata": {},
     "output_type": "execute_result"
    }
   ],
   "source": [
    "preds.size"
   ]
  },
  {
   "cell_type": "code",
   "execution_count": 6,
   "id": "ignored-improvement",
   "metadata": {
    "execution": {
     "iopub.execute_input": "2021-06-01T12:00:30.506638Z",
     "iopub.status.busy": "2021-06-01T12:00:30.505938Z",
     "iopub.status.idle": "2021-06-01T12:00:30.511638Z",
     "shell.execute_reply": "2021-06-01T12:00:30.512108Z",
     "shell.execute_reply.started": "2021-06-01T11:17:50.125282Z"
    },
    "papermill": {
     "duration": 0.056897,
     "end_time": "2021-06-01T12:00:30.512273",
     "exception": false,
     "start_time": "2021-06-01T12:00:30.455376",
     "status": "completed"
    },
    "tags": []
   },
   "outputs": [
    {
     "data": {
      "text/plain": [
       "[[('n01871265', 'tusker', 0.5553246),\n",
       "  ('n02504458', 'African_elephant', 0.37550497),\n",
       "  ('n02504013', 'Indian_elephant', 0.0690713),\n",
       "  ('n02437312', 'Arabian_camel', 4.4417153e-05),\n",
       "  ('n02397096', 'warthog', 1.7997296e-05)]]"
      ]
     },
     "execution_count": 6,
     "metadata": {},
     "output_type": "execute_result"
    }
   ],
   "source": [
    "decode_predictions(preds)"
   ]
  },
  {
   "cell_type": "markdown",
   "id": "joined-marble",
   "metadata": {
    "papermill": {
     "duration": 0.047233,
     "end_time": "2021-06-01T12:00:30.607010",
     "exception": false,
     "start_time": "2021-06-01T12:00:30.559777",
     "status": "completed"
    },
    "tags": []
   },
   "source": [
    "<font color=\"red\">\n",
    "Predicted: [('n01871265', 'tusker', 0.5553246), ('n02504458', 'African_elephant', 0.37550497), ('n02504013', 'Indian_elephant', 0.0690713)]"
   ]
  },
  {
   "cell_type": "code",
   "execution_count": 7,
   "id": "waiting-ethnic",
   "metadata": {
    "execution": {
     "iopub.execute_input": "2021-06-01T12:00:30.705902Z",
     "iopub.status.busy": "2021-06-01T12:00:30.705252Z",
     "iopub.status.idle": "2021-06-01T12:00:30.713548Z",
     "shell.execute_reply": "2021-06-01T12:00:30.712703Z",
     "shell.execute_reply.started": "2021-06-01T11:17:50.137447Z"
    },
    "papermill": {
     "duration": 0.059209,
     "end_time": "2021-06-01T12:00:30.713748",
     "exception": false,
     "start_time": "2021-06-01T12:00:30.654539",
     "status": "completed"
    },
    "tags": []
   },
   "outputs": [
    {
     "name": "stdout",
     "output_type": "stream",
     "text": [
      "It is a tusker with 0.5553246140480042\n"
     ]
    }
   ],
   "source": [
    "print(f\"It is a {decode_predictions(preds)[0][0][1]} with {decode_predictions(preds)[0][0][2]}\")"
   ]
  },
  {
   "cell_type": "code",
   "execution_count": 8,
   "id": "olive-myrtle",
   "metadata": {
    "execution": {
     "iopub.execute_input": "2021-06-01T12:00:30.817748Z",
     "iopub.status.busy": "2021-06-01T12:00:30.817115Z",
     "iopub.status.idle": "2021-06-01T12:00:31.006074Z",
     "shell.execute_reply": "2021-06-01T12:00:31.005436Z",
     "shell.execute_reply.started": "2021-06-01T11:17:50.150964Z"
    },
    "papermill": {
     "duration": 0.240843,
     "end_time": "2021-06-01T12:00:31.006243",
     "exception": false,
     "start_time": "2021-06-01T12:00:30.765400",
     "status": "completed"
    },
    "tags": []
   },
   "outputs": [
    {
     "data": {
      "text/plain": [
       "<matplotlib.image.AxesImage at 0x7f5f88b5a490>"
      ]
     },
     "execution_count": 8,
     "metadata": {},
     "output_type": "execute_result"
    },
    {
     "data": {
      "image/png": "[encoded data removed]",
      "text/plain": [
       "<Figure size 432x288 with 1 Axes>"
      ]
     },
     "metadata": {
      "needs_background": "light"
     },
     "output_type": "display_data"
    }
   ],
   "source": [
    "plt.imshow(plt.imread('../input/download1/download.jfif'))\n",
    "\n"
   ]
  },
  {
   "cell_type": "code",
   "execution_count": 9,
   "id": "specified-survey",
   "metadata": {
    "execution": {
     "iopub.execute_input": "2021-06-01T12:00:31.141445Z",
     "iopub.status.busy": "2021-06-01T12:00:31.140298Z",
     "iopub.status.idle": "2021-06-01T12:00:31.151635Z",
     "shell.execute_reply": "2021-06-01T12:00:31.150809Z",
     "shell.execute_reply.started": "2021-06-01T11:17:50.309683Z"
    },
    "papermill": {
     "duration": 0.082397,
     "end_time": "2021-06-01T12:00:31.151843",
     "exception": false,
     "start_time": "2021-06-01T12:00:31.069446",
     "status": "completed"
    },
    "tags": []
   },
   "outputs": [
    {
     "name": "stdout",
     "output_type": "stream",
     "text": [
      "[[[255. 255. 255.]\n",
      "  [255. 255. 255.]\n",
      "  [255. 255. 255.]\n",
      "  ...\n",
      "  [255. 255. 255.]\n",
      "  [255. 255. 255.]\n",
      "  [255. 255. 255.]]\n",
      "\n",
      " [[255. 255. 255.]\n",
      "  [255. 255. 255.]\n",
      "  [255. 255. 255.]\n",
      "  ...\n",
      "  [255. 255. 255.]\n",
      "  [255. 255. 255.]\n",
      "  [255. 255. 255.]]\n",
      "\n",
      " [[255. 255. 255.]\n",
      "  [255. 255. 255.]\n",
      "  [255. 255. 255.]\n",
      "  ...\n",
      "  [255. 255. 255.]\n",
      "  [255. 255. 255.]\n",
      "  [255. 255. 255.]]\n",
      "\n",
      " ...\n",
      "\n",
      " [[255. 255. 255.]\n",
      "  [255. 255. 255.]\n",
      "  [255. 255. 255.]\n",
      "  ...\n",
      "  [255. 255. 255.]\n",
      "  [255. 255. 255.]\n",
      "  [255. 255. 255.]]\n",
      "\n",
      " [[255. 255. 255.]\n",
      "  [255. 255. 255.]\n",
      "  [255. 255. 255.]\n",
      "  ...\n",
      "  [255. 255. 255.]\n",
      "  [255. 255. 255.]\n",
      "  [255. 255. 255.]]\n",
      "\n",
      " [[255. 255. 255.]\n",
      "  [255. 255. 255.]\n",
      "  [255. 255. 255.]\n",
      "  ...\n",
      "  [255. 255. 255.]\n",
      "  [255. 255. 255.]\n",
      "  [255. 255. 255.]]]\n"
     ]
    }
   ],
   "source": [
    "from tensorflow.keras.preprocessing import image\n",
    "img_path = '../input/download1/download.jfif'\n",
    "img = image.load_img(img_path, target_size=(224, 224))\n",
    "# we convert imgae into 224*224 because resnet has this size of images\n",
    "x = image.img_to_array(img)\n",
    "print(x)"
   ]
  },
  {
   "cell_type": "code",
   "execution_count": 10,
   "id": "extended-unemployment",
   "metadata": {
    "execution": {
     "iopub.execute_input": "2021-06-01T12:00:31.263540Z",
     "iopub.status.busy": "2021-06-01T12:00:31.262851Z",
     "iopub.status.idle": "2021-06-01T12:00:31.272380Z",
     "shell.execute_reply": "2021-06-01T12:00:31.271765Z",
     "shell.execute_reply.started": "2021-06-01T11:17:50.321956Z"
    },
    "papermill": {
     "duration": 0.064727,
     "end_time": "2021-06-01T12:00:31.272543",
     "exception": false,
     "start_time": "2021-06-01T12:00:31.207816",
     "status": "completed"
    },
    "tags": []
   },
   "outputs": [
    {
     "name": "stdout",
     "output_type": "stream",
     "text": [
      "[[[[255. 255. 255.]\n",
      "   [255. 255. 255.]\n",
      "   [255. 255. 255.]\n",
      "   ...\n",
      "   [255. 255. 255.]\n",
      "   [255. 255. 255.]\n",
      "   [255. 255. 255.]]\n",
      "\n",
      "  [[255. 255. 255.]\n",
      "   [255. 255. 255.]\n",
      "   [255. 255. 255.]\n",
      "   ...\n",
      "   [255. 255. 255.]\n",
      "   [255. 255. 255.]\n",
      "   [255. 255. 255.]]\n",
      "\n",
      "  [[255. 255. 255.]\n",
      "   [255. 255. 255.]\n",
      "   [255. 255. 255.]\n",
      "   ...\n",
      "   [255. 255. 255.]\n",
      "   [255. 255. 255.]\n",
      "   [255. 255. 255.]]\n",
      "\n",
      "  ...\n",
      "\n",
      "  [[255. 255. 255.]\n",
      "   [255. 255. 255.]\n",
      "   [255. 255. 255.]\n",
      "   ...\n",
      "   [255. 255. 255.]\n",
      "   [255. 255. 255.]\n",
      "   [255. 255. 255.]]\n",
      "\n",
      "  [[255. 255. 255.]\n",
      "   [255. 255. 255.]\n",
      "   [255. 255. 255.]\n",
      "   ...\n",
      "   [255. 255. 255.]\n",
      "   [255. 255. 255.]\n",
      "   [255. 255. 255.]]\n",
      "\n",
      "  [[255. 255. 255.]\n",
      "   [255. 255. 255.]\n",
      "   [255. 255. 255.]\n",
      "   ...\n",
      "   [255. 255. 255.]\n",
      "   [255. 255. 255.]\n",
      "   [255. 255. 255.]]]]\n"
     ]
    }
   ],
   "source": [
    "from tensorflow.keras.preprocessing import image\n",
    "img_path = '../input/download1/download.jfif'\n",
    "img = image.load_img(img_path, target_size=(224, 224))\n",
    "# we convert imgae into 224*224 because resnet has this size of images\n",
    "x = image.img_to_array(img)\n",
    "x= np.expand_dims(x,axis=0)\n",
    "print(x)"
   ]
  },
  {
   "cell_type": "code",
   "execution_count": 11,
   "id": "supported-allocation",
   "metadata": {
    "execution": {
     "iopub.execute_input": "2021-06-01T12:00:31.388801Z",
     "iopub.status.busy": "2021-06-01T12:00:31.387836Z",
     "iopub.status.idle": "2021-06-01T12:00:31.398051Z",
     "shell.execute_reply": "2021-06-01T12:00:31.397369Z",
     "shell.execute_reply.started": "2021-06-01T11:17:50.335042Z"
    },
    "papermill": {
     "duration": 0.071223,
     "end_time": "2021-06-01T12:00:31.398210",
     "exception": false,
     "start_time": "2021-06-01T12:00:31.326987",
     "status": "completed"
    },
    "tags": []
   },
   "outputs": [
    {
     "name": "stdout",
     "output_type": "stream",
     "text": [
      "[[[[151.061   138.22101 131.32   ]\n",
      "   [151.061   138.22101 131.32   ]\n",
      "   [151.061   138.22101 131.32   ]\n",
      "   ...\n",
      "   [151.061   138.22101 131.32   ]\n",
      "   [151.061   138.22101 131.32   ]\n",
      "   [151.061   138.22101 131.32   ]]\n",
      "\n",
      "  [[151.061   138.22101 131.32   ]\n",
      "   [151.061   138.22101 131.32   ]\n",
      "   [151.061   138.22101 131.32   ]\n",
      "   ...\n",
      "   [151.061   138.22101 131.32   ]\n",
      "   [151.061   138.22101 131.32   ]\n",
      "   [151.061   138.22101 131.32   ]]\n",
      "\n",
      "  [[151.061   138.22101 131.32   ]\n",
      "   [151.061   138.22101 131.32   ]\n",
      "   [151.061   138.22101 131.32   ]\n",
      "   ...\n",
      "   [151.061   138.22101 131.32   ]\n",
      "   [151.061   138.22101 131.32   ]\n",
      "   [151.061   138.22101 131.32   ]]\n",
      "\n",
      "  ...\n",
      "\n",
      "  [[151.061   138.22101 131.32   ]\n",
      "   [151.061   138.22101 131.32   ]\n",
      "   [151.061   138.22101 131.32   ]\n",
      "   ...\n",
      "   [151.061   138.22101 131.32   ]\n",
      "   [151.061   138.22101 131.32   ]\n",
      "   [151.061   138.22101 131.32   ]]\n",
      "\n",
      "  [[151.061   138.22101 131.32   ]\n",
      "   [151.061   138.22101 131.32   ]\n",
      "   [151.061   138.22101 131.32   ]\n",
      "   ...\n",
      "   [151.061   138.22101 131.32   ]\n",
      "   [151.061   138.22101 131.32   ]\n",
      "   [151.061   138.22101 131.32   ]]\n",
      "\n",
      "  [[151.061   138.22101 131.32   ]\n",
      "   [151.061   138.22101 131.32   ]\n",
      "   [151.061   138.22101 131.32   ]\n",
      "   ...\n",
      "   [151.061   138.22101 131.32   ]\n",
      "   [151.061   138.22101 131.32   ]\n",
      "   [151.061   138.22101 131.32   ]]]]\n"
     ]
    }
   ],
   "source": [
    "from tensorflow.keras.preprocessing import image\n",
    "img_path = '../input/download1/download.jfif'\n",
    "img = image.load_img(img_path, target_size=(224, 224))\n",
    "# we convert imgae into 224*224 because resnet has this size of images\n",
    "x = image.img_to_array(img)\n",
    "x= np.expand_dims(x,axis=0)\n",
    "x= preprocess_input(x)\n",
    "print(x)"
   ]
  },
  {
   "cell_type": "code",
   "execution_count": 12,
   "id": "human-eating",
   "metadata": {
    "execution": {
     "iopub.execute_input": "2021-06-01T12:00:31.515286Z",
     "iopub.status.busy": "2021-06-01T12:00:31.514091Z",
     "iopub.status.idle": "2021-06-01T12:00:31.702091Z",
     "shell.execute_reply": "2021-06-01T12:00:31.701240Z",
     "shell.execute_reply.started": "2021-06-01T11:17:50.347306Z"
    },
    "papermill": {
     "duration": 0.249902,
     "end_time": "2021-06-01T12:00:31.702302",
     "exception": false,
     "start_time": "2021-06-01T12:00:31.452400",
     "status": "completed"
    },
    "tags": []
   },
   "outputs": [
    {
     "name": "stdout",
     "output_type": "stream",
     "text": [
      "Predicted: [('n03180011', 'desktop_computer', 0.9606544), ('n03782006', 'monitor', 0.01795408), ('n04152593', 'screen', 0.017038863)]\n"
     ]
    }
   ],
   "source": [
    "from tensorflow.keras.preprocessing import image\n",
    "img_path = '../input/download1/download.jfif'\n",
    "img = image.load_img(img_path, target_size=(224, 224))\n",
    "# we convert imgae into 224*224 because resnet has this size of images\n",
    "x = image.img_to_array(img)\n",
    "x= np.expand_dims(x,axis=0)\n",
    "x= preprocess_input(x)\n",
    "preds = model.predict(x)\n",
    "# decode the results into a list of tuples (class, description, probability)\n",
    "# (one such list for each sample in the batch)\n",
    "print('Predicted:', decode_predictions(preds, top=3)[0])\n",
    "#The model truely predict the image as desktop computer with %96 chance"
   ]
  },
  {
   "cell_type": "markdown",
   "id": "endless-fifteen",
   "metadata": {
    "papermill": {
     "duration": 0.053049,
     "end_time": "2021-06-01T12:00:31.812297",
     "exception": false,
     "start_time": "2021-06-01T12:00:31.759248",
     "status": "completed"
    },
    "tags": []
   },
   "source": [
    "## 2. Using Transfer Learning's Trained Convolutions and Adding Our Own Layers"
   ]
  },
  {
   "cell_type": "markdown",
   "id": "certified-container",
   "metadata": {
    "papermill": {
     "duration": 0.051672,
     "end_time": "2021-06-01T12:00:31.916245",
     "exception": false,
     "start_time": "2021-06-01T12:00:31.864573",
     "status": "completed"
    },
    "tags": []
   },
   "source": [
    "## An Example From InceptionV3"
   ]
  },
  {
   "cell_type": "markdown",
   "id": "dying-private",
   "metadata": {
    "papermill": {
     "duration": 0.051817,
     "end_time": "2021-06-01T12:00:32.020003",
     "exception": false,
     "start_time": "2021-06-01T12:00:31.968186",
     "status": "completed"
    },
    "tags": []
   },
   "source": [
    "<font color =\"blue\">\n",
    "tf.keras.applications.InceptionV3(\n",
    "    include_top=True,\n",
    "    weights=\"imagenet\",\n",
    "    input_tensor=None,\n",
    "    input_shape=None,\n",
    "    pooling=None,\n",
    "    classes=1000,\n",
    "    classifier_activation=\"softmax\",\n",
    ")"
   ]
  },
  {
   "cell_type": "markdown",
   "id": "south-broadway",
   "metadata": {
    "papermill": {
     "duration": 0.052003,
     "end_time": "2021-06-01T12:00:32.123867",
     "exception": false,
     "start_time": "2021-06-01T12:00:32.071864",
     "status": "completed"
    },
    "tags": []
   },
   "source": [
    "1. First, instantiate a base model with pre-trained weights."
   ]
  },
  {
   "cell_type": "code",
   "execution_count": 13,
   "id": "stable-bangkok",
   "metadata": {
    "execution": {
     "iopub.execute_input": "2021-06-01T12:00:32.230726Z",
     "iopub.status.busy": "2021-06-01T12:00:32.229796Z",
     "iopub.status.idle": "2021-06-01T12:00:35.517470Z",
     "shell.execute_reply": "2021-06-01T12:00:35.516852Z",
     "shell.execute_reply.started": "2021-06-01T11:17:50.502826Z"
    },
    "papermill": {
     "duration": 3.342011,
     "end_time": "2021-06-01T12:00:35.517625",
     "exception": false,
     "start_time": "2021-06-01T12:00:32.175614",
     "status": "completed"
    },
    "tags": []
   },
   "outputs": [
    {
     "name": "stdout",
     "output_type": "stream",
     "text": [
      "Downloading data from https://storage.googleapis.com/tensorflow/keras-applications/inception_v3/inception_v3_weights_tf_dim_ordering_tf_kernels_notop.h5\n",
      "87916544/87910968 [==============================] - 1s 0us/step\n"
     ]
    }
   ],
   "source": [
    "from tensorflow.keras.applications.inception_v3 import InceptionV3\n",
    "base_model = InceptionV3(weights='imagenet',  # Load weights pre-trained on ImageNet.\n",
    "    input_shape=(150, 150, 3),#we can specify the inpur shape with this parameter\n",
    "    include_top=False) # Do not include the ImageNet classifier at the top."
   ]
  },
  {
   "cell_type": "markdown",
   "id": "above-glass",
   "metadata": {
    "papermill": {
     "duration": 0.080308,
     "end_time": "2021-06-01T12:00:35.653888",
     "exception": false,
     "start_time": "2021-06-01T12:00:35.573580",
     "status": "completed"
    },
    "tags": []
   },
   "source": [
    "2. Then, freeze the base model."
   ]
  },
  {
   "cell_type": "code",
   "execution_count": 14,
   "id": "starting-aurora",
   "metadata": {
    "execution": {
     "iopub.execute_input": "2021-06-01T12:00:35.784660Z",
     "iopub.status.busy": "2021-06-01T12:00:35.781858Z",
     "iopub.status.idle": "2021-06-01T12:00:35.788895Z",
     "shell.execute_reply": "2021-06-01T12:00:35.788217Z",
     "shell.execute_reply.started": "2021-06-01T11:17:52.710717Z"
    },
    "papermill": {
     "duration": 0.078037,
     "end_time": "2021-06-01T12:00:35.789047",
     "exception": false,
     "start_time": "2021-06-01T12:00:35.711010",
     "status": "completed"
    },
    "tags": []
   },
   "outputs": [],
   "source": [
    "base_model.trainable = False # We freeze the training of the convolutions"
   ]
  },
  {
   "cell_type": "markdown",
   "id": "opponent-vermont",
   "metadata": {
    "papermill": {
     "duration": 0.057134,
     "end_time": "2021-06-01T12:00:35.902337",
     "exception": false,
     "start_time": "2021-06-01T12:00:35.845203",
     "status": "completed"
    },
    "tags": []
   },
   "source": [
    "<font color=\"blue\">\n",
    "It is important to freeze the convolutional base before you compile and train the model. Freezing (by setting layer.trainable = False) prevents the weights in a given layer from being updated during training. MobileNet V2 has many layers, so setting the entire model's trainable flag to False will freeze all of them."
   ]
  },
  {
   "cell_type": "markdown",
   "id": "capable-capital",
   "metadata": {
    "papermill": {
     "duration": 0.055388,
     "end_time": "2021-06-01T12:00:36.013449",
     "exception": false,
     "start_time": "2021-06-01T12:00:35.958061",
     "status": "completed"
    },
    "tags": []
   },
   "source": [
    "3. Create a new model on top."
   ]
  },
  {
   "cell_type": "code",
   "execution_count": 15,
   "id": "surprising-staff",
   "metadata": {
    "execution": {
     "iopub.execute_input": "2021-06-01T12:00:36.131958Z",
     "iopub.status.busy": "2021-06-01T12:00:36.131019Z",
     "iopub.status.idle": "2021-06-01T12:00:36.136723Z",
     "shell.execute_reply": "2021-06-01T12:00:36.137159Z",
     "shell.execute_reply.started": "2021-06-01T11:17:52.725994Z"
    },
    "papermill": {
     "duration": 0.068738,
     "end_time": "2021-06-01T12:00:36.137357",
     "exception": false,
     "start_time": "2021-06-01T12:00:36.068619",
     "status": "completed"
    },
    "tags": []
   },
   "outputs": [],
   "source": [
    "from tensorflow.keras.layers import Flatten, Dense, Dropout\n",
    "from tensorflow.keras.applications.inception_v3 import InceptionV3\n",
    "from tensorflow.keras.preprocessing import image\n",
    "from tensorflow.keras.models import Model\n",
    "from tensorflow.keras.layers import Dense, GlobalAveragePooling2D\n",
    "from tensorflow.keras.optimizers import RMSprop\n",
    "base = base_model.output\n",
    "# Flatten the output layer to 1 dimension\n",
    "model = Flatten()(base)\n",
    "\n"
   ]
  },
  {
   "cell_type": "code",
   "execution_count": 16,
   "id": "taken-brazil",
   "metadata": {
    "execution": {
     "iopub.execute_input": "2021-06-01T12:00:36.251276Z",
     "iopub.status.busy": "2021-06-01T12:00:36.250377Z",
     "iopub.status.idle": "2021-06-01T12:00:36.483467Z",
     "shell.execute_reply": "2021-06-01T12:00:36.483994Z",
     "shell.execute_reply.started": "2021-06-01T11:17:52.744020Z"
    },
    "papermill": {
     "duration": 0.291683,
     "end_time": "2021-06-01T12:00:36.484188",
     "exception": false,
     "start_time": "2021-06-01T12:00:36.192505",
     "status": "completed"
    },
    "tags": []
   },
   "outputs": [],
   "source": [
    "\n",
    "# Add a fully connected layer with 1,024 hidden units and ReLU activation\n",
    "model = Dense(units=1024, activation =\"relu\")(model)\n",
    "# Add a dropout rate of 0.2\n",
    "model = Dropout(0.2)(model)\n",
    "# Add a final sigmoid layer for classification\n",
    "model = Dense(units = 1, activation = \"sigmoid\")(model)\n",
    "model = Model( base_model.input, model)\n",
    "model.compile(optimizer = RMSprop(lr=0.0001), \n",
    "              loss = 'binary_crossentropy', \n",
    "              metrics = ['accuracy'])\n"
   ]
  },
  {
   "cell_type": "code",
   "execution_count": 17,
   "id": "sharing-proposal",
   "metadata": {
    "execution": {
     "iopub.execute_input": "2021-06-01T12:00:36.596410Z",
     "iopub.status.busy": "2021-06-01T12:00:36.595524Z",
     "iopub.status.idle": "2021-06-01T12:00:36.739095Z",
     "shell.execute_reply": "2021-06-01T12:00:36.739881Z",
     "shell.execute_reply.started": "2021-06-01T11:17:53.018585Z"
    },
    "papermill": {
     "duration": 0.201228,
     "end_time": "2021-06-01T12:00:36.740138",
     "exception": false,
     "start_time": "2021-06-01T12:00:36.538910",
     "status": "completed"
    },
    "tags": []
   },
   "outputs": [
    {
     "name": "stdout",
     "output_type": "stream",
     "text": [
      "Model: \"model\"\n",
      "__________________________________________________________________________________________________\n",
      "Layer (type)                    Output Shape         Param #     Connected to                     \n",
      "==================================================================================================\n",
      "input_2 (InputLayer)            [(None, 150, 150, 3) 0                                            \n",
      "__________________________________________________________________________________________________\n",
      "conv2d (Conv2D)                 (None, 74, 74, 32)   864         input_2[0][0]                    \n",
      "__________________________________________________________________________________________________\n",
      "batch_normalization (BatchNorma (None, 74, 74, 32)   96          conv2d[0][0]                     \n",
      "__________________________________________________________________________________________________\n",
      "activation (Activation)         (None, 74, 74, 32)   0           batch_normalization[0][0]        \n",
      "__________________________________________________________________________________________________\n",
      "conv2d_1 (Conv2D)               (None, 72, 72, 32)   9216        activation[0][0]                 \n",
      "__________________________________________________________________________________________________\n",
      "batch_normalization_1 (BatchNor (None, 72, 72, 32)   96          conv2d_1[0][0]                   \n",
      "__________________________________________________________________________________________________\n",
      "activation_1 (Activation)       (None, 72, 72, 32)   0           batch_normalization_1[0][0]      \n",
      "__________________________________________________________________________________________________\n",
      "conv2d_2 (Conv2D)               (None, 72, 72, 64)   18432       activation_1[0][0]               \n",
      "__________________________________________________________________________________________________\n",
      "batch_normalization_2 (BatchNor (None, 72, 72, 64)   192         conv2d_2[0][0]                   \n",
      "__________________________________________________________________________________________________\n",
      "activation_2 (Activation)       (None, 72, 72, 64)   0           batch_normalization_2[0][0]      \n",
      "__________________________________________________________________________________________________\n",
      "max_pooling2d (MaxPooling2D)    (None, 35, 35, 64)   0           activation_2[0][0]               \n",
      "__________________________________________________________________________________________________\n",
      "conv2d_3 (Conv2D)               (None, 35, 35, 80)   5120        max_pooling2d[0][0]              \n",
      "__________________________________________________________________________________________________\n",
      "batch_normalization_3 (BatchNor (None, 35, 35, 80)   240         conv2d_3[0][0]                   \n",
      "__________________________________________________________________________________________________\n",
      "activation_3 (Activation)       (None, 35, 35, 80)   0           batch_normalization_3[0][0]      \n",
      "__________________________________________________________________________________________________\n",
      "conv2d_4 (Conv2D)               (None, 33, 33, 192)  138240      activation_3[0][0]               \n",
      "__________________________________________________________________________________________________\n",
      "batch_normalization_4 (BatchNor (None, 33, 33, 192)  576         conv2d_4[0][0]                   \n",
      "__________________________________________________________________________________________________\n",
      "activation_4 (Activation)       (None, 33, 33, 192)  0           batch_normalization_4[0][0]      \n",
      "__________________________________________________________________________________________________\n",
      "max_pooling2d_1 (MaxPooling2D)  (None, 16, 16, 192)  0           activation_4[0][0]               \n",
      "__________________________________________________________________________________________________\n",
      "conv2d_8 (Conv2D)               (None, 16, 16, 64)   12288       max_pooling2d_1[0][0]            \n",
      "__________________________________________________________________________________________________\n",
      "batch_normalization_8 (BatchNor (None, 16, 16, 64)   192         conv2d_8[0][0]                   \n",
      "__________________________________________________________________________________________________\n",
      "activation_8 (Activation)       (None, 16, 16, 64)   0           batch_normalization_8[0][0]      \n",
      "__________________________________________________________________________________________________\n",
      "conv2d_6 (Conv2D)               (None, 16, 16, 48)   9216        max_pooling2d_1[0][0]            \n",
      "__________________________________________________________________________________________________\n",
      "conv2d_9 (Conv2D)               (None, 16, 16, 96)   55296       activation_8[0][0]               \n",
      "__________________________________________________________________________________________________\n",
      "batch_normalization_6 (BatchNor (None, 16, 16, 48)   144         conv2d_6[0][0]                   \n",
      "__________________________________________________________________________________________________\n",
      "batch_normalization_9 (BatchNor (None, 16, 16, 96)   288         conv2d_9[0][0]                   \n",
      "__________________________________________________________________________________________________\n",
      "activation_6 (Activation)       (None, 16, 16, 48)   0           batch_normalization_6[0][0]      \n",
      "__________________________________________________________________________________________________\n",
      "activation_9 (Activation)       (None, 16, 16, 96)   0           batch_normalization_9[0][0]      \n",
      "__________________________________________________________________________________________________\n",
      "average_pooling2d (AveragePooli (None, 16, 16, 192)  0           max_pooling2d_1[0][0]            \n",
      "__________________________________________________________________________________________________\n",
      "conv2d_5 (Conv2D)               (None, 16, 16, 64)   12288       max_pooling2d_1[0][0]            \n",
      "__________________________________________________________________________________________________\n",
      "conv2d_7 (Conv2D)               (None, 16, 16, 64)   76800       activation_6[0][0]               \n",
      "__________________________________________________________________________________________________\n",
      "conv2d_10 (Conv2D)              (None, 16, 16, 96)   82944       activation_9[0][0]               \n",
      "__________________________________________________________________________________________________\n",
      "conv2d_11 (Conv2D)              (None, 16, 16, 32)   6144        average_pooling2d[0][0]          \n",
      "__________________________________________________________________________________________________\n",
      "batch_normalization_5 (BatchNor (None, 16, 16, 64)   192         conv2d_5[0][0]                   \n",
      "__________________________________________________________________________________________________\n",
      "batch_normalization_7 (BatchNor (None, 16, 16, 64)   192         conv2d_7[0][0]                   \n",
      "__________________________________________________________________________________________________\n",
      "batch_normalization_10 (BatchNo (None, 16, 16, 96)   288         conv2d_10[0][0]                  \n",
      "__________________________________________________________________________________________________\n",
      "batch_normalization_11 (BatchNo (None, 16, 16, 32)   96          conv2d_11[0][0]                  \n",
      "__________________________________________________________________________________________________\n",
      "activation_5 (Activation)       (None, 16, 16, 64)   0           batch_normalization_5[0][0]      \n",
      "__________________________________________________________________________________________________\n",
      "activation_7 (Activation)       (None, 16, 16, 64)   0           batch_normalization_7[0][0]      \n",
      "__________________________________________________________________________________________________\n",
      "activation_10 (Activation)      (None, 16, 16, 96)   0           batch_normalization_10[0][0]     \n",
      "__________________________________________________________________________________________________\n",
      "activation_11 (Activation)      (None, 16, 16, 32)   0           batch_normalization_11[0][0]     \n",
      "__________________________________________________________________________________________________\n",
      "mixed0 (Concatenate)            (None, 16, 16, 256)  0           activation_5[0][0]               \n",
      "                                                                 activation_7[0][0]               \n",
      "                                                                 activation_10[0][0]              \n",
      "                                                                 activation_11[0][0]              \n",
      "__________________________________________________________________________________________________\n",
      "conv2d_15 (Conv2D)              (None, 16, 16, 64)   16384       mixed0[0][0]                     \n",
      "__________________________________________________________________________________________________\n",
      "batch_normalization_15 (BatchNo (None, 16, 16, 64)   192         conv2d_15[0][0]                  \n",
      "__________________________________________________________________________________________________\n",
      "activation_15 (Activation)      (None, 16, 16, 64)   0           batch_normalization_15[0][0]     \n",
      "__________________________________________________________________________________________________\n",
      "conv2d_13 (Conv2D)              (None, 16, 16, 48)   12288       mixed0[0][0]                     \n",
      "__________________________________________________________________________________________________\n",
      "conv2d_16 (Conv2D)              (None, 16, 16, 96)   55296       activation_15[0][0]              \n",
      "__________________________________________________________________________________________________\n",
      "batch_normalization_13 (BatchNo (None, 16, 16, 48)   144         conv2d_13[0][0]                  \n",
      "__________________________________________________________________________________________________\n",
      "batch_normalization_16 (BatchNo (None, 16, 16, 96)   288         conv2d_16[0][0]                  \n",
      "__________________________________________________________________________________________________\n",
      "activation_13 (Activation)      (None, 16, 16, 48)   0           batch_normalization_13[0][0]     \n",
      "__________________________________________________________________________________________________\n",
      "activation_16 (Activation)      (None, 16, 16, 96)   0           batch_normalization_16[0][0]     \n",
      "__________________________________________________________________________________________________\n",
      "average_pooling2d_1 (AveragePoo (None, 16, 16, 256)  0           mixed0[0][0]                     \n",
      "__________________________________________________________________________________________________\n",
      "conv2d_12 (Conv2D)              (None, 16, 16, 64)   16384       mixed0[0][0]                     \n",
      "__________________________________________________________________________________________________\n",
      "conv2d_14 (Conv2D)              (None, 16, 16, 64)   76800       activation_13[0][0]              \n",
      "__________________________________________________________________________________________________\n",
      "conv2d_17 (Conv2D)              (None, 16, 16, 96)   82944       activation_16[0][0]              \n",
      "__________________________________________________________________________________________________\n",
      "conv2d_18 (Conv2D)              (None, 16, 16, 64)   16384       average_pooling2d_1[0][0]        \n",
      "__________________________________________________________________________________________________\n",
      "batch_normalization_12 (BatchNo (None, 16, 16, 64)   192         conv2d_12[0][0]                  \n",
      "__________________________________________________________________________________________________\n",
      "batch_normalization_14 (BatchNo (None, 16, 16, 64)   192         conv2d_14[0][0]                  \n",
      "__________________________________________________________________________________________________\n",
      "batch_normalization_17 (BatchNo (None, 16, 16, 96)   288         conv2d_17[0][0]                  \n",
      "__________________________________________________________________________________________________\n",
      "batch_normalization_18 (BatchNo (None, 16, 16, 64)   192         conv2d_18[0][0]                  \n",
      "__________________________________________________________________________________________________\n",
      "activation_12 (Activation)      (None, 16, 16, 64)   0           batch_normalization_12[0][0]     \n",
      "__________________________________________________________________________________________________\n",
      "activation_14 (Activation)      (None, 16, 16, 64)   0           batch_normalization_14[0][0]     \n",
      "__________________________________________________________________________________________________\n",
      "activation_17 (Activation)      (None, 16, 16, 96)   0           batch_normalization_17[0][0]     \n",
      "__________________________________________________________________________________________________\n",
      "activation_18 (Activation)      (None, 16, 16, 64)   0           batch_normalization_18[0][0]     \n",
      "__________________________________________________________________________________________________\n",
      "mixed1 (Concatenate)            (None, 16, 16, 288)  0           activation_12[0][0]              \n",
      "                                                                 activation_14[0][0]              \n",
      "                                                                 activation_17[0][0]              \n",
      "                                                                 activation_18[0][0]              \n",
      "__________________________________________________________________________________________________\n",
      "conv2d_22 (Conv2D)              (None, 16, 16, 64)   18432       mixed1[0][0]                     \n",
      "__________________________________________________________________________________________________\n",
      "batch_normalization_22 (BatchNo (None, 16, 16, 64)   192         conv2d_22[0][0]                  \n",
      "__________________________________________________________________________________________________\n",
      "activation_22 (Activation)      (None, 16, 16, 64)   0           batch_normalization_22[0][0]     \n",
      "__________________________________________________________________________________________________\n",
      "conv2d_20 (Conv2D)              (None, 16, 16, 48)   13824       mixed1[0][0]                     \n",
      "__________________________________________________________________________________________________\n",
      "conv2d_23 (Conv2D)              (None, 16, 16, 96)   55296       activation_22[0][0]              \n",
      "__________________________________________________________________________________________________\n",
      "batch_normalization_20 (BatchNo (None, 16, 16, 48)   144         conv2d_20[0][0]                  \n",
      "__________________________________________________________________________________________________\n",
      "batch_normalization_23 (BatchNo (None, 16, 16, 96)   288         conv2d_23[0][0]                  \n",
      "__________________________________________________________________________________________________\n",
      "activation_20 (Activation)      (None, 16, 16, 48)   0           batch_normalization_20[0][0]     \n",
      "__________________________________________________________________________________________________\n",
      "activation_23 (Activation)      (None, 16, 16, 96)   0           batch_normalization_23[0][0]     \n",
      "__________________________________________________________________________________________________\n",
      "average_pooling2d_2 (AveragePoo (None, 16, 16, 288)  0           mixed1[0][0]                     \n",
      "__________________________________________________________________________________________________\n",
      "conv2d_19 (Conv2D)              (None, 16, 16, 64)   18432       mixed1[0][0]                     \n",
      "__________________________________________________________________________________________________\n",
      "conv2d_21 (Conv2D)              (None, 16, 16, 64)   76800       activation_20[0][0]              \n",
      "__________________________________________________________________________________________________\n",
      "conv2d_24 (Conv2D)              (None, 16, 16, 96)   82944       activation_23[0][0]              \n",
      "__________________________________________________________________________________________________\n",
      "conv2d_25 (Conv2D)              (None, 16, 16, 64)   18432       average_pooling2d_2[0][0]        \n",
      "__________________________________________________________________________________________________\n",
      "batch_normalization_19 (BatchNo (None, 16, 16, 64)   192         conv2d_19[0][0]                  \n",
      "__________________________________________________________________________________________________\n",
      "batch_normalization_21 (BatchNo (None, 16, 16, 64)   192         conv2d_21[0][0]                  \n",
      "__________________________________________________________________________________________________\n",
      "batch_normalization_24 (BatchNo (None, 16, 16, 96)   288         conv2d_24[0][0]                  \n",
      "__________________________________________________________________________________________________\n",
      "batch_normalization_25 (BatchNo (None, 16, 16, 64)   192         conv2d_25[0][0]                  \n",
      "__________________________________________________________________________________________________\n",
      "activation_19 (Activation)      (None, 16, 16, 64)   0           batch_normalization_19[0][0]     \n",
      "__________________________________________________________________________________________________\n",
      "activation_21 (Activation)      (None, 16, 16, 64)   0           batch_normalization_21[0][0]     \n",
      "__________________________________________________________________________________________________\n",
      "activation_24 (Activation)      (None, 16, 16, 96)   0           batch_normalization_24[0][0]     \n",
      "__________________________________________________________________________________________________\n",
      "activation_25 (Activation)      (None, 16, 16, 64)   0           batch_normalization_25[0][0]     \n",
      "__________________________________________________________________________________________________\n",
      "mixed2 (Concatenate)            (None, 16, 16, 288)  0           activation_19[0][0]              \n",
      "                                                                 activation_21[0][0]              \n",
      "                                                                 activation_24[0][0]              \n",
      "                                                                 activation_25[0][0]              \n",
      "__________________________________________________________________________________________________\n",
      "conv2d_27 (Conv2D)              (None, 16, 16, 64)   18432       mixed2[0][0]                     \n",
      "__________________________________________________________________________________________________\n",
      "batch_normalization_27 (BatchNo (None, 16, 16, 64)   192         conv2d_27[0][0]                  \n",
      "__________________________________________________________________________________________________\n",
      "activation_27 (Activation)      (None, 16, 16, 64)   0           batch_normalization_27[0][0]     \n",
      "__________________________________________________________________________________________________\n",
      "conv2d_28 (Conv2D)              (None, 16, 16, 96)   55296       activation_27[0][0]              \n",
      "__________________________________________________________________________________________________\n",
      "batch_normalization_28 (BatchNo (None, 16, 16, 96)   288         conv2d_28[0][0]                  \n",
      "__________________________________________________________________________________________________\n",
      "activation_28 (Activation)      (None, 16, 16, 96)   0           batch_normalization_28[0][0]     \n",
      "__________________________________________________________________________________________________\n",
      "conv2d_26 (Conv2D)              (None, 7, 7, 384)    995328      mixed2[0][0]                     \n",
      "__________________________________________________________________________________________________\n",
      "conv2d_29 (Conv2D)              (None, 7, 7, 96)     82944       activation_28[0][0]              \n",
      "__________________________________________________________________________________________________\n",
      "batch_normalization_26 (BatchNo (None, 7, 7, 384)    1152        conv2d_26[0][0]                  \n",
      "__________________________________________________________________________________________________\n",
      "batch_normalization_29 (BatchNo (None, 7, 7, 96)     288         conv2d_29[0][0]                  \n",
      "__________________________________________________________________________________________________\n",
      "activation_26 (Activation)      (None, 7, 7, 384)    0           batch_normalization_26[0][0]     \n",
      "__________________________________________________________________________________________________\n",
      "activation_29 (Activation)      (None, 7, 7, 96)     0           batch_normalization_29[0][0]     \n",
      "__________________________________________________________________________________________________\n",
      "max_pooling2d_2 (MaxPooling2D)  (None, 7, 7, 288)    0           mixed2[0][0]                     \n",
      "__________________________________________________________________________________________________\n",
      "mixed3 (Concatenate)            (None, 7, 7, 768)    0           activation_26[0][0]              \n",
      "                                                                 activation_29[0][0]              \n",
      "                                                                 max_pooling2d_2[0][0]            \n",
      "__________________________________________________________________________________________________\n",
      "conv2d_34 (Conv2D)              (None, 7, 7, 128)    98304       mixed3[0][0]                     \n",
      "__________________________________________________________________________________________________\n",
      "batch_normalization_34 (BatchNo (None, 7, 7, 128)    384         conv2d_34[0][0]                  \n",
      "__________________________________________________________________________________________________\n",
      "activation_34 (Activation)      (None, 7, 7, 128)    0           batch_normalization_34[0][0]     \n",
      "__________________________________________________________________________________________________\n",
      "conv2d_35 (Conv2D)              (None, 7, 7, 128)    114688      activation_34[0][0]              \n",
      "__________________________________________________________________________________________________\n",
      "batch_normalization_35 (BatchNo (None, 7, 7, 128)    384         conv2d_35[0][0]                  \n",
      "__________________________________________________________________________________________________\n",
      "activation_35 (Activation)      (None, 7, 7, 128)    0           batch_normalization_35[0][0]     \n",
      "__________________________________________________________________________________________________\n",
      "conv2d_31 (Conv2D)              (None, 7, 7, 128)    98304       mixed3[0][0]                     \n",
      "__________________________________________________________________________________________________\n",
      "conv2d_36 (Conv2D)              (None, 7, 7, 128)    114688      activation_35[0][0]              \n",
      "__________________________________________________________________________________________________\n",
      "batch_normalization_31 (BatchNo (None, 7, 7, 128)    384         conv2d_31[0][0]                  \n",
      "__________________________________________________________________________________________________\n",
      "batch_normalization_36 (BatchNo (None, 7, 7, 128)    384         conv2d_36[0][0]                  \n",
      "__________________________________________________________________________________________________\n",
      "activation_31 (Activation)      (None, 7, 7, 128)    0           batch_normalization_31[0][0]     \n",
      "__________________________________________________________________________________________________\n",
      "activation_36 (Activation)      (None, 7, 7, 128)    0           batch_normalization_36[0][0]     \n",
      "__________________________________________________________________________________________________\n",
      "conv2d_32 (Conv2D)              (None, 7, 7, 128)    114688      activation_31[0][0]              \n",
      "__________________________________________________________________________________________________\n",
      "conv2d_37 (Conv2D)              (None, 7, 7, 128)    114688      activation_36[0][0]              \n",
      "__________________________________________________________________________________________________\n",
      "batch_normalization_32 (BatchNo (None, 7, 7, 128)    384         conv2d_32[0][0]                  \n",
      "__________________________________________________________________________________________________\n",
      "batch_normalization_37 (BatchNo (None, 7, 7, 128)    384         conv2d_37[0][0]                  \n",
      "__________________________________________________________________________________________________\n",
      "activation_32 (Activation)      (None, 7, 7, 128)    0           batch_normalization_32[0][0]     \n",
      "__________________________________________________________________________________________________\n",
      "activation_37 (Activation)      (None, 7, 7, 128)    0           batch_normalization_37[0][0]     \n",
      "__________________________________________________________________________________________________\n",
      "average_pooling2d_3 (AveragePoo (None, 7, 7, 768)    0           mixed3[0][0]                     \n",
      "__________________________________________________________________________________________________\n",
      "conv2d_30 (Conv2D)              (None, 7, 7, 192)    147456      mixed3[0][0]                     \n",
      "__________________________________________________________________________________________________\n",
      "conv2d_33 (Conv2D)              (None, 7, 7, 192)    172032      activation_32[0][0]              \n",
      "__________________________________________________________________________________________________\n",
      "conv2d_38 (Conv2D)              (None, 7, 7, 192)    172032      activation_37[0][0]              \n",
      "__________________________________________________________________________________________________\n",
      "conv2d_39 (Conv2D)              (None, 7, 7, 192)    147456      average_pooling2d_3[0][0]        \n",
      "__________________________________________________________________________________________________\n",
      "batch_normalization_30 (BatchNo (None, 7, 7, 192)    576         conv2d_30[0][0]                  \n",
      "__________________________________________________________________________________________________\n",
      "batch_normalization_33 (BatchNo (None, 7, 7, 192)    576         conv2d_33[0][0]                  \n",
      "__________________________________________________________________________________________________\n",
      "batch_normalization_38 (BatchNo (None, 7, 7, 192)    576         conv2d_38[0][0]                  \n",
      "__________________________________________________________________________________________________\n",
      "batch_normalization_39 (BatchNo (None, 7, 7, 192)    576         conv2d_39[0][0]                  \n",
      "__________________________________________________________________________________________________\n",
      "activation_30 (Activation)      (None, 7, 7, 192)    0           batch_normalization_30[0][0]     \n",
      "__________________________________________________________________________________________________\n",
      "activation_33 (Activation)      (None, 7, 7, 192)    0           batch_normalization_33[0][0]     \n",
      "__________________________________________________________________________________________________\n",
      "activation_38 (Activation)      (None, 7, 7, 192)    0           batch_normalization_38[0][0]     \n",
      "__________________________________________________________________________________________________\n",
      "activation_39 (Activation)      (None, 7, 7, 192)    0           batch_normalization_39[0][0]     \n",
      "__________________________________________________________________________________________________\n",
      "mixed4 (Concatenate)            (None, 7, 7, 768)    0           activation_30[0][0]              \n",
      "                                                                 activation_33[0][0]              \n",
      "                                                                 activation_38[0][0]              \n",
      "                                                                 activation_39[0][0]              \n",
      "__________________________________________________________________________________________________\n",
      "conv2d_44 (Conv2D)              (None, 7, 7, 160)    122880      mixed4[0][0]                     \n",
      "__________________________________________________________________________________________________\n",
      "batch_normalization_44 (BatchNo (None, 7, 7, 160)    480         conv2d_44[0][0]                  \n",
      "__________________________________________________________________________________________________\n",
      "activation_44 (Activation)      (None, 7, 7, 160)    0           batch_normalization_44[0][0]     \n",
      "__________________________________________________________________________________________________\n",
      "conv2d_45 (Conv2D)              (None, 7, 7, 160)    179200      activation_44[0][0]              \n",
      "__________________________________________________________________________________________________\n",
      "batch_normalization_45 (BatchNo (None, 7, 7, 160)    480         conv2d_45[0][0]                  \n",
      "__________________________________________________________________________________________________\n",
      "activation_45 (Activation)      (None, 7, 7, 160)    0           batch_normalization_45[0][0]     \n",
      "__________________________________________________________________________________________________\n",
      "conv2d_41 (Conv2D)              (None, 7, 7, 160)    122880      mixed4[0][0]                     \n",
      "__________________________________________________________________________________________________\n",
      "conv2d_46 (Conv2D)              (None, 7, 7, 160)    179200      activation_45[0][0]              \n",
      "__________________________________________________________________________________________________\n",
      "batch_normalization_41 (BatchNo (None, 7, 7, 160)    480         conv2d_41[0][0]                  \n",
      "__________________________________________________________________________________________________\n",
      "batch_normalization_46 (BatchNo (None, 7, 7, 160)    480         conv2d_46[0][0]                  \n",
      "__________________________________________________________________________________________________\n",
      "activation_41 (Activation)      (None, 7, 7, 160)    0           batch_normalization_41[0][0]     \n",
      "__________________________________________________________________________________________________\n",
      "activation_46 (Activation)      (None, 7, 7, 160)    0           batch_normalization_46[0][0]     \n",
      "__________________________________________________________________________________________________\n",
      "conv2d_42 (Conv2D)              (None, 7, 7, 160)    179200      activation_41[0][0]              \n",
      "__________________________________________________________________________________________________\n",
      "conv2d_47 (Conv2D)              (None, 7, 7, 160)    179200      activation_46[0][0]              \n",
      "__________________________________________________________________________________________________\n",
      "batch_normalization_42 (BatchNo (None, 7, 7, 160)    480         conv2d_42[0][0]                  \n",
      "__________________________________________________________________________________________________\n",
      "batch_normalization_47 (BatchNo (None, 7, 7, 160)    480         conv2d_47[0][0]                  \n",
      "__________________________________________________________________________________________________\n",
      "activation_42 (Activation)      (None, 7, 7, 160)    0           batch_normalization_42[0][0]     \n",
      "__________________________________________________________________________________________________\n",
      "activation_47 (Activation)      (None, 7, 7, 160)    0           batch_normalization_47[0][0]     \n",
      "__________________________________________________________________________________________________\n",
      "average_pooling2d_4 (AveragePoo (None, 7, 7, 768)    0           mixed4[0][0]                     \n",
      "__________________________________________________________________________________________________\n",
      "conv2d_40 (Conv2D)              (None, 7, 7, 192)    147456      mixed4[0][0]                     \n",
      "__________________________________________________________________________________________________\n",
      "conv2d_43 (Conv2D)              (None, 7, 7, 192)    215040      activation_42[0][0]              \n",
      "__________________________________________________________________________________________________\n",
      "conv2d_48 (Conv2D)              (None, 7, 7, 192)    215040      activation_47[0][0]              \n",
      "__________________________________________________________________________________________________\n",
      "conv2d_49 (Conv2D)              (None, 7, 7, 192)    147456      average_pooling2d_4[0][0]        \n",
      "__________________________________________________________________________________________________\n",
      "batch_normalization_40 (BatchNo (None, 7, 7, 192)    576         conv2d_40[0][0]                  \n",
      "__________________________________________________________________________________________________\n",
      "batch_normalization_43 (BatchNo (None, 7, 7, 192)    576         conv2d_43[0][0]                  \n",
      "__________________________________________________________________________________________________\n",
      "batch_normalization_48 (BatchNo (None, 7, 7, 192)    576         conv2d_48[0][0]                  \n",
      "__________________________________________________________________________________________________\n",
      "batch_normalization_49 (BatchNo (None, 7, 7, 192)    576         conv2d_49[0][0]                  \n",
      "__________________________________________________________________________________________________\n",
      "activation_40 (Activation)      (None, 7, 7, 192)    0           batch_normalization_40[0][0]     \n",
      "__________________________________________________________________________________________________\n",
      "activation_43 (Activation)      (None, 7, 7, 192)    0           batch_normalization_43[0][0]     \n",
      "__________________________________________________________________________________________________\n",
      "activation_48 (Activation)      (None, 7, 7, 192)    0           batch_normalization_48[0][0]     \n",
      "__________________________________________________________________________________________________\n",
      "activation_49 (Activation)      (None, 7, 7, 192)    0           batch_normalization_49[0][0]     \n",
      "__________________________________________________________________________________________________\n",
      "mixed5 (Concatenate)            (None, 7, 7, 768)    0           activation_40[0][0]              \n",
      "                                                                 activation_43[0][0]              \n",
      "                                                                 activation_48[0][0]              \n",
      "                                                                 activation_49[0][0]              \n",
      "__________________________________________________________________________________________________\n",
      "conv2d_54 (Conv2D)              (None, 7, 7, 160)    122880      mixed5[0][0]                     \n",
      "__________________________________________________________________________________________________\n",
      "batch_normalization_54 (BatchNo (None, 7, 7, 160)    480         conv2d_54[0][0]                  \n",
      "__________________________________________________________________________________________________\n",
      "activation_54 (Activation)      (None, 7, 7, 160)    0           batch_normalization_54[0][0]     \n",
      "__________________________________________________________________________________________________\n",
      "conv2d_55 (Conv2D)              (None, 7, 7, 160)    179200      activation_54[0][0]              \n",
      "__________________________________________________________________________________________________\n",
      "batch_normalization_55 (BatchNo (None, 7, 7, 160)    480         conv2d_55[0][0]                  \n",
      "__________________________________________________________________________________________________\n",
      "activation_55 (Activation)      (None, 7, 7, 160)    0           batch_normalization_55[0][0]     \n",
      "__________________________________________________________________________________________________\n",
      "conv2d_51 (Conv2D)              (None, 7, 7, 160)    122880      mixed5[0][0]                     \n",
      "__________________________________________________________________________________________________\n",
      "conv2d_56 (Conv2D)              (None, 7, 7, 160)    179200      activation_55[0][0]              \n",
      "__________________________________________________________________________________________________\n",
      "batch_normalization_51 (BatchNo (None, 7, 7, 160)    480         conv2d_51[0][0]                  \n",
      "__________________________________________________________________________________________________\n",
      "batch_normalization_56 (BatchNo (None, 7, 7, 160)    480         conv2d_56[0][0]                  \n",
      "__________________________________________________________________________________________________\n",
      "activation_51 (Activation)      (None, 7, 7, 160)    0           batch_normalization_51[0][0]     \n",
      "__________________________________________________________________________________________________\n",
      "activation_56 (Activation)      (None, 7, 7, 160)    0           batch_normalization_56[0][0]     \n",
      "__________________________________________________________________________________________________\n",
      "conv2d_52 (Conv2D)              (None, 7, 7, 160)    179200      activation_51[0][0]              \n",
      "__________________________________________________________________________________________________\n",
      "conv2d_57 (Conv2D)              (None, 7, 7, 160)    179200      activation_56[0][0]              \n",
      "__________________________________________________________________________________________________\n",
      "batch_normalization_52 (BatchNo (None, 7, 7, 160)    480         conv2d_52[0][0]                  \n",
      "__________________________________________________________________________________________________\n",
      "batch_normalization_57 (BatchNo (None, 7, 7, 160)    480         conv2d_57[0][0]                  \n",
      "__________________________________________________________________________________________________\n",
      "activation_52 (Activation)      (None, 7, 7, 160)    0           batch_normalization_52[0][0]     \n",
      "__________________________________________________________________________________________________\n",
      "activation_57 (Activation)      (None, 7, 7, 160)    0           batch_normalization_57[0][0]     \n",
      "__________________________________________________________________________________________________\n",
      "average_pooling2d_5 (AveragePoo (None, 7, 7, 768)    0           mixed5[0][0]                     \n",
      "__________________________________________________________________________________________________\n",
      "conv2d_50 (Conv2D)              (None, 7, 7, 192)    147456      mixed5[0][0]                     \n",
      "__________________________________________________________________________________________________\n",
      "conv2d_53 (Conv2D)              (None, 7, 7, 192)    215040      activation_52[0][0]              \n",
      "__________________________________________________________________________________________________\n",
      "conv2d_58 (Conv2D)              (None, 7, 7, 192)    215040      activation_57[0][0]              \n",
      "__________________________________________________________________________________________________\n",
      "conv2d_59 (Conv2D)              (None, 7, 7, 192)    147456      average_pooling2d_5[0][0]        \n",
      "__________________________________________________________________________________________________\n",
      "batch_normalization_50 (BatchNo (None, 7, 7, 192)    576         conv2d_50[0][0]                  \n",
      "__________________________________________________________________________________________________\n",
      "batch_normalization_53 (BatchNo (None, 7, 7, 192)    576         conv2d_53[0][0]                  \n",
      "__________________________________________________________________________________________________\n",
      "batch_normalization_58 (BatchNo (None, 7, 7, 192)    576         conv2d_58[0][0]                  \n",
      "__________________________________________________________________________________________________\n",
      "batch_normalization_59 (BatchNo (None, 7, 7, 192)    576         conv2d_59[0][0]                  \n",
      "__________________________________________________________________________________________________\n",
      "activation_50 (Activation)      (None, 7, 7, 192)    0           batch_normalization_50[0][0]     \n",
      "__________________________________________________________________________________________________\n",
      "activation_53 (Activation)      (None, 7, 7, 192)    0           batch_normalization_53[0][0]     \n",
      "__________________________________________________________________________________________________\n",
      "activation_58 (Activation)      (None, 7, 7, 192)    0           batch_normalization_58[0][0]     \n",
      "__________________________________________________________________________________________________\n",
      "activation_59 (Activation)      (None, 7, 7, 192)    0           batch_normalization_59[0][0]     \n",
      "__________________________________________________________________________________________________\n",
      "mixed6 (Concatenate)            (None, 7, 7, 768)    0           activation_50[0][0]              \n",
      "                                                                 activation_53[0][0]              \n",
      "                                                                 activation_58[0][0]              \n",
      "                                                                 activation_59[0][0]              \n",
      "__________________________________________________________________________________________________\n",
      "conv2d_64 (Conv2D)              (None, 7, 7, 192)    147456      mixed6[0][0]                     \n",
      "__________________________________________________________________________________________________\n",
      "batch_normalization_64 (BatchNo (None, 7, 7, 192)    576         conv2d_64[0][0]                  \n",
      "__________________________________________________________________________________________________\n",
      "activation_64 (Activation)      (None, 7, 7, 192)    0           batch_normalization_64[0][0]     \n",
      "__________________________________________________________________________________________________\n",
      "conv2d_65 (Conv2D)              (None, 7, 7, 192)    258048      activation_64[0][0]              \n",
      "__________________________________________________________________________________________________\n",
      "batch_normalization_65 (BatchNo (None, 7, 7, 192)    576         conv2d_65[0][0]                  \n",
      "__________________________________________________________________________________________________\n",
      "activation_65 (Activation)      (None, 7, 7, 192)    0           batch_normalization_65[0][0]     \n",
      "__________________________________________________________________________________________________\n",
      "conv2d_61 (Conv2D)              (None, 7, 7, 192)    147456      mixed6[0][0]                     \n",
      "__________________________________________________________________________________________________\n",
      "conv2d_66 (Conv2D)              (None, 7, 7, 192)    258048      activation_65[0][0]              \n",
      "__________________________________________________________________________________________________\n",
      "batch_normalization_61 (BatchNo (None, 7, 7, 192)    576         conv2d_61[0][0]                  \n",
      "__________________________________________________________________________________________________\n",
      "batch_normalization_66 (BatchNo (None, 7, 7, 192)    576         conv2d_66[0][0]                  \n",
      "__________________________________________________________________________________________________\n",
      "activation_61 (Activation)      (None, 7, 7, 192)    0           batch_normalization_61[0][0]     \n",
      "__________________________________________________________________________________________________\n",
      "activation_66 (Activation)      (None, 7, 7, 192)    0           batch_normalization_66[0][0]     \n",
      "__________________________________________________________________________________________________\n",
      "conv2d_62 (Conv2D)              (None, 7, 7, 192)    258048      activation_61[0][0]              \n",
      "__________________________________________________________________________________________________\n",
      "conv2d_67 (Conv2D)              (None, 7, 7, 192)    258048      activation_66[0][0]              \n",
      "__________________________________________________________________________________________________\n",
      "batch_normalization_62 (BatchNo (None, 7, 7, 192)    576         conv2d_62[0][0]                  \n",
      "__________________________________________________________________________________________________\n",
      "batch_normalization_67 (BatchNo (None, 7, 7, 192)    576         conv2d_67[0][0]                  \n",
      "__________________________________________________________________________________________________\n",
      "activation_62 (Activation)      (None, 7, 7, 192)    0           batch_normalization_62[0][0]     \n",
      "__________________________________________________________________________________________________\n",
      "activation_67 (Activation)      (None, 7, 7, 192)    0           batch_normalization_67[0][0]     \n",
      "__________________________________________________________________________________________________\n",
      "average_pooling2d_6 (AveragePoo (None, 7, 7, 768)    0           mixed6[0][0]                     \n",
      "__________________________________________________________________________________________________\n",
      "conv2d_60 (Conv2D)              (None, 7, 7, 192)    147456      mixed6[0][0]                     \n",
      "__________________________________________________________________________________________________\n",
      "conv2d_63 (Conv2D)              (None, 7, 7, 192)    258048      activation_62[0][0]              \n",
      "__________________________________________________________________________________________________\n",
      "conv2d_68 (Conv2D)              (None, 7, 7, 192)    258048      activation_67[0][0]              \n",
      "__________________________________________________________________________________________________\n",
      "conv2d_69 (Conv2D)              (None, 7, 7, 192)    147456      average_pooling2d_6[0][0]        \n",
      "__________________________________________________________________________________________________\n",
      "batch_normalization_60 (BatchNo (None, 7, 7, 192)    576         conv2d_60[0][0]                  \n",
      "__________________________________________________________________________________________________\n",
      "batch_normalization_63 (BatchNo (None, 7, 7, 192)    576         conv2d_63[0][0]                  \n",
      "__________________________________________________________________________________________________\n",
      "batch_normalization_68 (BatchNo (None, 7, 7, 192)    576         conv2d_68[0][0]                  \n",
      "__________________________________________________________________________________________________\n",
      "batch_normalization_69 (BatchNo (None, 7, 7, 192)    576         conv2d_69[0][0]                  \n",
      "__________________________________________________________________________________________________\n",
      "activation_60 (Activation)      (None, 7, 7, 192)    0           batch_normalization_60[0][0]     \n",
      "__________________________________________________________________________________________________\n",
      "activation_63 (Activation)      (None, 7, 7, 192)    0           batch_normalization_63[0][0]     \n",
      "__________________________________________________________________________________________________\n",
      "activation_68 (Activation)      (None, 7, 7, 192)    0           batch_normalization_68[0][0]     \n",
      "__________________________________________________________________________________________________\n",
      "activation_69 (Activation)      (None, 7, 7, 192)    0           batch_normalization_69[0][0]     \n",
      "__________________________________________________________________________________________________\n",
      "mixed7 (Concatenate)            (None, 7, 7, 768)    0           activation_60[0][0]              \n",
      "                                                                 activation_63[0][0]              \n",
      "                                                                 activation_68[0][0]              \n",
      "                                                                 activation_69[0][0]              \n",
      "__________________________________________________________________________________________________\n",
      "conv2d_72 (Conv2D)              (None, 7, 7, 192)    147456      mixed7[0][0]                     \n",
      "__________________________________________________________________________________________________\n",
      "batch_normalization_72 (BatchNo (None, 7, 7, 192)    576         conv2d_72[0][0]                  \n",
      "__________________________________________________________________________________________________\n",
      "activation_72 (Activation)      (None, 7, 7, 192)    0           batch_normalization_72[0][0]     \n",
      "__________________________________________________________________________________________________\n",
      "conv2d_73 (Conv2D)              (None, 7, 7, 192)    258048      activation_72[0][0]              \n",
      "__________________________________________________________________________________________________\n",
      "batch_normalization_73 (BatchNo (None, 7, 7, 192)    576         conv2d_73[0][0]                  \n",
      "__________________________________________________________________________________________________\n",
      "activation_73 (Activation)      (None, 7, 7, 192)    0           batch_normalization_73[0][0]     \n",
      "__________________________________________________________________________________________________\n",
      "conv2d_70 (Conv2D)              (None, 7, 7, 192)    147456      mixed7[0][0]                     \n",
      "__________________________________________________________________________________________________\n",
      "conv2d_74 (Conv2D)              (None, 7, 7, 192)    258048      activation_73[0][0]              \n",
      "__________________________________________________________________________________________________\n",
      "batch_normalization_70 (BatchNo (None, 7, 7, 192)    576         conv2d_70[0][0]                  \n",
      "__________________________________________________________________________________________________\n",
      "batch_normalization_74 (BatchNo (None, 7, 7, 192)    576         conv2d_74[0][0]                  \n",
      "__________________________________________________________________________________________________\n",
      "activation_70 (Activation)      (None, 7, 7, 192)    0           batch_normalization_70[0][0]     \n",
      "__________________________________________________________________________________________________\n",
      "activation_74 (Activation)      (None, 7, 7, 192)    0           batch_normalization_74[0][0]     \n",
      "__________________________________________________________________________________________________\n",
      "conv2d_71 (Conv2D)              (None, 3, 3, 320)    552960      activation_70[0][0]              \n",
      "__________________________________________________________________________________________________\n",
      "conv2d_75 (Conv2D)              (None, 3, 3, 192)    331776      activation_74[0][0]              \n",
      "__________________________________________________________________________________________________\n",
      "batch_normalization_71 (BatchNo (None, 3, 3, 320)    960         conv2d_71[0][0]                  \n",
      "__________________________________________________________________________________________________\n",
      "batch_normalization_75 (BatchNo (None, 3, 3, 192)    576         conv2d_75[0][0]                  \n",
      "__________________________________________________________________________________________________\n",
      "activation_71 (Activation)      (None, 3, 3, 320)    0           batch_normalization_71[0][0]     \n",
      "__________________________________________________________________________________________________\n",
      "activation_75 (Activation)      (None, 3, 3, 192)    0           batch_normalization_75[0][0]     \n",
      "__________________________________________________________________________________________________\n",
      "max_pooling2d_3 (MaxPooling2D)  (None, 3, 3, 768)    0           mixed7[0][0]                     \n",
      "__________________________________________________________________________________________________\n",
      "mixed8 (Concatenate)            (None, 3, 3, 1280)   0           activation_71[0][0]              \n",
      "                                                                 activation_75[0][0]              \n",
      "                                                                 max_pooling2d_3[0][0]            \n",
      "__________________________________________________________________________________________________\n",
      "conv2d_80 (Conv2D)              (None, 3, 3, 448)    573440      mixed8[0][0]                     \n",
      "__________________________________________________________________________________________________\n",
      "batch_normalization_80 (BatchNo (None, 3, 3, 448)    1344        conv2d_80[0][0]                  \n",
      "__________________________________________________________________________________________________\n",
      "activation_80 (Activation)      (None, 3, 3, 448)    0           batch_normalization_80[0][0]     \n",
      "__________________________________________________________________________________________________\n",
      "conv2d_77 (Conv2D)              (None, 3, 3, 384)    491520      mixed8[0][0]                     \n",
      "__________________________________________________________________________________________________\n",
      "conv2d_81 (Conv2D)              (None, 3, 3, 384)    1548288     activation_80[0][0]              \n",
      "__________________________________________________________________________________________________\n",
      "batch_normalization_77 (BatchNo (None, 3, 3, 384)    1152        conv2d_77[0][0]                  \n",
      "__________________________________________________________________________________________________\n",
      "batch_normalization_81 (BatchNo (None, 3, 3, 384)    1152        conv2d_81[0][0]                  \n",
      "__________________________________________________________________________________________________\n",
      "activation_77 (Activation)      (None, 3, 3, 384)    0           batch_normalization_77[0][0]     \n",
      "__________________________________________________________________________________________________\n",
      "activation_81 (Activation)      (None, 3, 3, 384)    0           batch_normalization_81[0][0]     \n",
      "__________________________________________________________________________________________________\n",
      "conv2d_78 (Conv2D)              (None, 3, 3, 384)    442368      activation_77[0][0]              \n",
      "__________________________________________________________________________________________________\n",
      "conv2d_79 (Conv2D)              (None, 3, 3, 384)    442368      activation_77[0][0]              \n",
      "__________________________________________________________________________________________________\n",
      "conv2d_82 (Conv2D)              (None, 3, 3, 384)    442368      activation_81[0][0]              \n",
      "__________________________________________________________________________________________________\n",
      "conv2d_83 (Conv2D)              (None, 3, 3, 384)    442368      activation_81[0][0]              \n",
      "__________________________________________________________________________________________________\n",
      "average_pooling2d_7 (AveragePoo (None, 3, 3, 1280)   0           mixed8[0][0]                     \n",
      "__________________________________________________________________________________________________\n",
      "conv2d_76 (Conv2D)              (None, 3, 3, 320)    409600      mixed8[0][0]                     \n",
      "__________________________________________________________________________________________________\n",
      "batch_normalization_78 (BatchNo (None, 3, 3, 384)    1152        conv2d_78[0][0]                  \n",
      "__________________________________________________________________________________________________\n",
      "batch_normalization_79 (BatchNo (None, 3, 3, 384)    1152        conv2d_79[0][0]                  \n",
      "__________________________________________________________________________________________________\n",
      "batch_normalization_82 (BatchNo (None, 3, 3, 384)    1152        conv2d_82[0][0]                  \n",
      "__________________________________________________________________________________________________\n",
      "batch_normalization_83 (BatchNo (None, 3, 3, 384)    1152        conv2d_83[0][0]                  \n",
      "__________________________________________________________________________________________________\n",
      "conv2d_84 (Conv2D)              (None, 3, 3, 192)    245760      average_pooling2d_7[0][0]        \n",
      "__________________________________________________________________________________________________\n",
      "batch_normalization_76 (BatchNo (None, 3, 3, 320)    960         conv2d_76[0][0]                  \n",
      "__________________________________________________________________________________________________\n",
      "activation_78 (Activation)      (None, 3, 3, 384)    0           batch_normalization_78[0][0]     \n",
      "__________________________________________________________________________________________________\n",
      "activation_79 (Activation)      (None, 3, 3, 384)    0           batch_normalization_79[0][0]     \n",
      "__________________________________________________________________________________________________\n",
      "activation_82 (Activation)      (None, 3, 3, 384)    0           batch_normalization_82[0][0]     \n",
      "__________________________________________________________________________________________________\n",
      "activation_83 (Activation)      (None, 3, 3, 384)    0           batch_normalization_83[0][0]     \n",
      "__________________________________________________________________________________________________\n",
      "batch_normalization_84 (BatchNo (None, 3, 3, 192)    576         conv2d_84[0][0]                  \n",
      "__________________________________________________________________________________________________\n",
      "activation_76 (Activation)      (None, 3, 3, 320)    0           batch_normalization_76[0][0]     \n",
      "__________________________________________________________________________________________________\n",
      "mixed9_0 (Concatenate)          (None, 3, 3, 768)    0           activation_78[0][0]              \n",
      "                                                                 activation_79[0][0]              \n",
      "__________________________________________________________________________________________________\n",
      "concatenate (Concatenate)       (None, 3, 3, 768)    0           activation_82[0][0]              \n",
      "                                                                 activation_83[0][0]              \n",
      "__________________________________________________________________________________________________\n",
      "activation_84 (Activation)      (None, 3, 3, 192)    0           batch_normalization_84[0][0]     \n",
      "__________________________________________________________________________________________________\n",
      "mixed9 (Concatenate)            (None, 3, 3, 2048)   0           activation_76[0][0]              \n",
      "                                                                 mixed9_0[0][0]                   \n",
      "                                                                 concatenate[0][0]                \n",
      "                                                                 activation_84[0][0]              \n",
      "__________________________________________________________________________________________________\n",
      "conv2d_89 (Conv2D)              (None, 3, 3, 448)    917504      mixed9[0][0]                     \n",
      "__________________________________________________________________________________________________\n",
      "batch_normalization_89 (BatchNo (None, 3, 3, 448)    1344        conv2d_89[0][0]                  \n",
      "__________________________________________________________________________________________________\n",
      "activation_89 (Activation)      (None, 3, 3, 448)    0           batch_normalization_89[0][0]     \n",
      "__________________________________________________________________________________________________\n",
      "conv2d_86 (Conv2D)              (None, 3, 3, 384)    786432      mixed9[0][0]                     \n",
      "__________________________________________________________________________________________________\n",
      "conv2d_90 (Conv2D)              (None, 3, 3, 384)    1548288     activation_89[0][0]              \n",
      "__________________________________________________________________________________________________\n",
      "batch_normalization_86 (BatchNo (None, 3, 3, 384)    1152        conv2d_86[0][0]                  \n",
      "__________________________________________________________________________________________________\n",
      "batch_normalization_90 (BatchNo (None, 3, 3, 384)    1152        conv2d_90[0][0]                  \n",
      "__________________________________________________________________________________________________\n",
      "activation_86 (Activation)      (None, 3, 3, 384)    0           batch_normalization_86[0][0]     \n",
      "__________________________________________________________________________________________________\n",
      "activation_90 (Activation)      (None, 3, 3, 384)    0           batch_normalization_90[0][0]     \n",
      "__________________________________________________________________________________________________\n",
      "conv2d_87 (Conv2D)              (None, 3, 3, 384)    442368      activation_86[0][0]              \n",
      "__________________________________________________________________________________________________\n",
      "conv2d_88 (Conv2D)              (None, 3, 3, 384)    442368      activation_86[0][0]              \n",
      "__________________________________________________________________________________________________\n",
      "conv2d_91 (Conv2D)              (None, 3, 3, 384)    442368      activation_90[0][0]              \n",
      "__________________________________________________________________________________________________\n",
      "conv2d_92 (Conv2D)              (None, 3, 3, 384)    442368      activation_90[0][0]              \n",
      "__________________________________________________________________________________________________\n",
      "average_pooling2d_8 (AveragePoo (None, 3, 3, 2048)   0           mixed9[0][0]                     \n",
      "__________________________________________________________________________________________________\n",
      "conv2d_85 (Conv2D)              (None, 3, 3, 320)    655360      mixed9[0][0]                     \n",
      "__________________________________________________________________________________________________\n",
      "batch_normalization_87 (BatchNo (None, 3, 3, 384)    1152        conv2d_87[0][0]                  \n",
      "__________________________________________________________________________________________________\n",
      "batch_normalization_88 (BatchNo (None, 3, 3, 384)    1152        conv2d_88[0][0]                  \n",
      "__________________________________________________________________________________________________\n",
      "batch_normalization_91 (BatchNo (None, 3, 3, 384)    1152        conv2d_91[0][0]                  \n",
      "__________________________________________________________________________________________________\n",
      "batch_normalization_92 (BatchNo (None, 3, 3, 384)    1152        conv2d_92[0][0]                  \n",
      "__________________________________________________________________________________________________\n",
      "conv2d_93 (Conv2D)              (None, 3, 3, 192)    393216      average_pooling2d_8[0][0]        \n",
      "__________________________________________________________________________________________________\n",
      "batch_normalization_85 (BatchNo (None, 3, 3, 320)    960         conv2d_85[0][0]                  \n",
      "__________________________________________________________________________________________________\n",
      "activation_87 (Activation)      (None, 3, 3, 384)    0           batch_normalization_87[0][0]     \n",
      "__________________________________________________________________________________________________\n",
      "activation_88 (Activation)      (None, 3, 3, 384)    0           batch_normalization_88[0][0]     \n",
      "__________________________________________________________________________________________________\n",
      "activation_91 (Activation)      (None, 3, 3, 384)    0           batch_normalization_91[0][0]     \n",
      "__________________________________________________________________________________________________\n",
      "activation_92 (Activation)      (None, 3, 3, 384)    0           batch_normalization_92[0][0]     \n",
      "__________________________________________________________________________________________________\n",
      "batch_normalization_93 (BatchNo (None, 3, 3, 192)    576         conv2d_93[0][0]                  \n",
      "__________________________________________________________________________________________________\n",
      "activation_85 (Activation)      (None, 3, 3, 320)    0           batch_normalization_85[0][0]     \n",
      "__________________________________________________________________________________________________\n",
      "mixed9_1 (Concatenate)          (None, 3, 3, 768)    0           activation_87[0][0]              \n",
      "                                                                 activation_88[0][0]              \n",
      "__________________________________________________________________________________________________\n",
      "concatenate_1 (Concatenate)     (None, 3, 3, 768)    0           activation_91[0][0]              \n",
      "                                                                 activation_92[0][0]              \n",
      "__________________________________________________________________________________________________\n",
      "activation_93 (Activation)      (None, 3, 3, 192)    0           batch_normalization_93[0][0]     \n",
      "__________________________________________________________________________________________________\n",
      "mixed10 (Concatenate)           (None, 3, 3, 2048)   0           activation_85[0][0]              \n",
      "                                                                 mixed9_1[0][0]                   \n",
      "                                                                 concatenate_1[0][0]              \n",
      "                                                                 activation_93[0][0]              \n",
      "__________________________________________________________________________________________________\n",
      "flatten (Flatten)               (None, 18432)        0           mixed10[0][0]                    \n",
      "__________________________________________________________________________________________________\n",
      "dense (Dense)                   (None, 1024)         18875392    flatten[0][0]                    \n",
      "__________________________________________________________________________________________________\n",
      "dropout (Dropout)               (None, 1024)         0           dense[0][0]                      \n",
      "__________________________________________________________________________________________________\n",
      "dense_1 (Dense)                 (None, 1)            1025        dropout[0][0]                    \n",
      "==================================================================================================\n",
      "Total params: 40,679,201\n",
      "Trainable params: 18,876,417\n",
      "Non-trainable params: 21,802,784\n",
      "__________________________________________________________________________________________________\n"
     ]
    }
   ],
   "source": [
    "model.summary()"
   ]
  },
  {
   "cell_type": "code",
   "execution_count": 18,
   "id": "wooden-climate",
   "metadata": {
    "execution": {
     "iopub.execute_input": "2021-06-01T12:00:36.862900Z",
     "iopub.status.busy": "2021-06-01T12:00:36.862200Z",
     "iopub.status.idle": "2021-06-01T12:00:51.854564Z",
     "shell.execute_reply": "2021-06-01T12:00:51.855068Z",
     "shell.execute_reply.started": "2021-06-01T11:17:53.132533Z"
    },
    "papermill": {
     "duration": 15.055362,
     "end_time": "2021-06-01T12:00:51.855339",
     "exception": false,
     "start_time": "2021-06-01T12:00:36.799977",
     "status": "completed"
    },
    "tags": []
   },
   "outputs": [],
   "source": [
    "import zipfile\n",
    "local_zip = \"../input/dogs-vs-cats-redux-kernels-edition/train.zip\"\n",
    "zip_ref = zipfile.ZipFile(local_zip, 'r')\n",
    "zip_ref.extractall('/kaggle/working/')\n",
    "zip_ref.close()"
   ]
  },
  {
   "cell_type": "code",
   "execution_count": 19,
   "id": "opened-alexander",
   "metadata": {
    "execution": {
     "iopub.execute_input": "2021-06-01T12:00:51.978115Z",
     "iopub.status.busy": "2021-06-01T12:00:51.977458Z",
     "iopub.status.idle": "2021-06-01T12:00:51.995810Z",
     "shell.execute_reply": "2021-06-01T12:00:51.996296Z",
     "shell.execute_reply.started": "2021-06-01T11:18:03.352534Z"
    },
    "papermill": {
     "duration": 0.08034,
     "end_time": "2021-06-01T12:00:51.996568",
     "exception": false,
     "start_time": "2021-06-01T12:00:51.916228",
     "status": "completed"
    },
    "tags": []
   },
   "outputs": [],
   "source": [
    "base_dir = '/kaggle/working/'\n",
    "train_dir = os.path.join(base_dir, 'train')\n",
    "train_img_names = os.listdir(train_dir)"
   ]
  },
  {
   "cell_type": "code",
   "execution_count": 20,
   "id": "square-visit",
   "metadata": {
    "execution": {
     "iopub.execute_input": "2021-06-01T12:00:52.121968Z",
     "iopub.status.busy": "2021-06-01T12:00:52.121340Z",
     "iopub.status.idle": "2021-06-01T12:00:58.568037Z",
     "shell.execute_reply": "2021-06-01T12:00:58.568638Z",
     "shell.execute_reply.started": "2021-06-01T11:18:03.370314Z"
    },
    "papermill": {
     "duration": 6.508664,
     "end_time": "2021-06-01T12:00:58.568871",
     "exception": false,
     "start_time": "2021-06-01T12:00:52.060207",
     "status": "completed"
    },
    "tags": []
   },
   "outputs": [],
   "source": [
    "local_zip = \"../input/dogs-vs-cats-redux-kernels-edition/test.zip\"\n",
    "zip_ref = zipfile.ZipFile(local_zip, 'r')\n",
    "zip_ref.extractall('/kaggle/working/')\n",
    "zip_ref.close()"
   ]
  },
  {
   "cell_type": "code",
   "execution_count": 21,
   "id": "occupational-corpus",
   "metadata": {
    "execution": {
     "iopub.execute_input": "2021-06-01T12:00:58.741224Z",
     "iopub.status.busy": "2021-06-01T12:00:58.740332Z",
     "iopub.status.idle": "2021-06-01T12:00:58.751547Z",
     "shell.execute_reply": "2021-06-01T12:00:58.750960Z",
     "shell.execute_reply.started": "2021-06-01T11:18:08.584251Z"
    },
    "papermill": {
     "duration": 0.103644,
     "end_time": "2021-06-01T12:00:58.751692",
     "exception": false,
     "start_time": "2021-06-01T12:00:58.648048",
     "status": "completed"
    },
    "tags": []
   },
   "outputs": [],
   "source": [
    "base_dir = '/kaggle/working/'\n",
    "test_dir = os.path.join(base_dir, 'test')\n",
    "test_img_names = os.listdir(test_dir)"
   ]
  },
  {
   "cell_type": "code",
   "execution_count": 22,
   "id": "significant-bundle",
   "metadata": {
    "execution": {
     "iopub.execute_input": "2021-06-01T12:00:58.892166Z",
     "iopub.status.busy": "2021-06-01T12:00:58.890997Z",
     "iopub.status.idle": "2021-06-01T12:00:58.898215Z",
     "shell.execute_reply": "2021-06-01T12:00:58.899224Z",
     "shell.execute_reply.started": "2021-06-01T11:18:08.598313Z"
    },
    "papermill": {
     "duration": 0.083886,
     "end_time": "2021-06-01T12:00:58.899456",
     "exception": false,
     "start_time": "2021-06-01T12:00:58.815570",
     "status": "completed"
    },
    "tags": []
   },
   "outputs": [
    {
     "name": "stdout",
     "output_type": "stream",
     "text": [
      "['cat.11092.jpg', 'cat.8181.jpg', 'cat.1465.jpg', 'dog.1962.jpg', 'dog.10252.jpg', 'cat.8598.jpg', 'cat.6490.jpg', 'dog.7577.jpg', 'dog.9474.jpg', 'cat.1090.jpg']\n"
     ]
    }
   ],
   "source": [
    "print(train_img_names[:10])"
   ]
  },
  {
   "cell_type": "code",
   "execution_count": 23,
   "id": "geographic-chest",
   "metadata": {
    "execution": {
     "iopub.execute_input": "2021-06-01T12:00:59.027459Z",
     "iopub.status.busy": "2021-06-01T12:00:59.026781Z",
     "iopub.status.idle": "2021-06-01T12:00:59.032830Z",
     "shell.execute_reply": "2021-06-01T12:00:59.032139Z",
     "shell.execute_reply.started": "2021-06-01T11:18:08.609324Z"
    },
    "papermill": {
     "duration": 0.066964,
     "end_time": "2021-06-01T12:00:59.032973",
     "exception": false,
     "start_time": "2021-06-01T12:00:58.966009",
     "status": "completed"
    },
    "tags": []
   },
   "outputs": [
    {
     "name": "stdout",
     "output_type": "stream",
     "text": [
      "['6671.jpg', '3748.jpg', '5148.jpg', '10404.jpg', '11970.jpg', '5054.jpg', '1643.jpg', '9604.jpg', '8468.jpg', '9881.jpg']\n"
     ]
    }
   ],
   "source": [
    "print(test_img_names[:10])"
   ]
  },
  {
   "cell_type": "code",
   "execution_count": 24,
   "id": "bronze-vault",
   "metadata": {
    "execution": {
     "iopub.execute_input": "2021-06-01T12:00:59.154388Z",
     "iopub.status.busy": "2021-06-01T12:00:59.153240Z",
     "iopub.status.idle": "2021-06-01T12:00:59.159775Z",
     "shell.execute_reply": "2021-06-01T12:00:59.158807Z",
     "shell.execute_reply.started": "2021-06-01T11:18:08.621663Z"
    },
    "papermill": {
     "duration": 0.068983,
     "end_time": "2021-06-01T12:00:59.160005",
     "exception": false,
     "start_time": "2021-06-01T12:00:59.091022",
     "status": "completed"
    },
    "tags": []
   },
   "outputs": [
    {
     "name": "stdout",
     "output_type": "stream",
     "text": [
      "total training images : 25000\n"
     ]
    }
   ],
   "source": [
    "print('total training images :', len(train_img_names ))"
   ]
  },
  {
   "cell_type": "code",
   "execution_count": 25,
   "id": "difficult-conservative",
   "metadata": {
    "execution": {
     "iopub.execute_input": "2021-06-01T12:00:59.282783Z",
     "iopub.status.busy": "2021-06-01T12:00:59.281884Z",
     "iopub.status.idle": "2021-06-01T12:00:59.286739Z",
     "shell.execute_reply": "2021-06-01T12:00:59.286173Z",
     "shell.execute_reply.started": "2021-06-01T11:18:08.635687Z"
    },
    "papermill": {
     "duration": 0.068058,
     "end_time": "2021-06-01T12:00:59.286872",
     "exception": false,
     "start_time": "2021-06-01T12:00:59.218814",
     "status": "completed"
    },
    "tags": []
   },
   "outputs": [
    {
     "name": "stdout",
     "output_type": "stream",
     "text": [
      "total training images : 12500\n"
     ]
    }
   ],
   "source": [
    "print('total training images :', len(test_img_names ))"
   ]
  },
  {
   "cell_type": "markdown",
   "id": "material-roots",
   "metadata": {
    "papermill": {
     "duration": 0.058238,
     "end_time": "2021-06-01T12:00:59.404117",
     "exception": false,
     "start_time": "2021-06-01T12:00:59.345879",
     "status": "completed"
    },
    "tags": []
   },
   "source": [
    "Lets separate  dogs and cats for  dataset"
   ]
  },
  {
   "cell_type": "code",
   "execution_count": 26,
   "id": "empty-policy",
   "metadata": {
    "execution": {
     "iopub.execute_input": "2021-06-01T12:00:59.534619Z",
     "iopub.status.busy": "2021-06-01T12:00:59.533918Z",
     "iopub.status.idle": "2021-06-01T12:00:59.537231Z",
     "shell.execute_reply": "2021-06-01T12:00:59.537688Z",
     "shell.execute_reply.started": "2021-06-01T11:18:08.647366Z"
    },
    "papermill": {
     "duration": 0.075773,
     "end_time": "2021-06-01T12:00:59.537903",
     "exception": false,
     "start_time": "2021-06-01T12:00:59.462130",
     "status": "completed"
    },
    "tags": []
   },
   "outputs": [
    {
     "data": {
      "text/plain": [
       "['cat', 'cat', 'cat', 'dog', 'dog', 'cat', 'cat', 'dog', 'dog', 'cat']"
      ]
     },
     "execution_count": 26,
     "metadata": {},
     "output_type": "execute_result"
    }
   ],
   "source": [
    "categories = list()\n",
    "for image in train_img_names:\n",
    "    categories.append(image[:3])\n",
    "categories[:10]\n"
   ]
  },
  {
   "cell_type": "code",
   "execution_count": 27,
   "id": "patient-jones",
   "metadata": {
    "execution": {
     "iopub.execute_input": "2021-06-01T12:00:59.666447Z",
     "iopub.status.busy": "2021-06-01T12:00:59.665462Z",
     "iopub.status.idle": "2021-06-01T12:00:59.696640Z",
     "shell.execute_reply": "2021-06-01T12:00:59.697062Z",
     "shell.execute_reply.started": "2021-06-01T11:18:08.666337Z"
    },
    "papermill": {
     "duration": 0.09758,
     "end_time": "2021-06-01T12:00:59.697243",
     "exception": false,
     "start_time": "2021-06-01T12:00:59.599663",
     "status": "completed"
    },
    "tags": []
   },
   "outputs": [
    {
     "data": {
      "text/html": [
       "<div>\n",
       "<style scoped>\n",
       "    .dataframe tbody tr th:only-of-type {\n",
       "        vertical-align: middle;\n",
       "    }\n",
       "\n",
       "    .dataframe tbody tr th {\n",
       "        vertical-align: top;\n",
       "    }\n",
       "\n",
       "    .dataframe thead th {\n",
       "        text-align: right;\n",
       "    }\n",
       "</style>\n",
       "<table border=\"1\" class=\"dataframe\">\n",
       "  <thead>\n",
       "    <tr style=\"text-align: right;\">\n",
       "      <th></th>\n",
       "      <th>Image</th>\n",
       "      <th>Category</th>\n",
       "    </tr>\n",
       "  </thead>\n",
       "  <tbody>\n",
       "    <tr>\n",
       "      <th>0</th>\n",
       "      <td>cat.11092.jpg</td>\n",
       "      <td>cat</td>\n",
       "    </tr>\n",
       "    <tr>\n",
       "      <th>1</th>\n",
       "      <td>cat.8181.jpg</td>\n",
       "      <td>cat</td>\n",
       "    </tr>\n",
       "    <tr>\n",
       "      <th>2</th>\n",
       "      <td>cat.1465.jpg</td>\n",
       "      <td>cat</td>\n",
       "    </tr>\n",
       "    <tr>\n",
       "      <th>3</th>\n",
       "      <td>dog.1962.jpg</td>\n",
       "      <td>dog</td>\n",
       "    </tr>\n",
       "    <tr>\n",
       "      <th>4</th>\n",
       "      <td>dog.10252.jpg</td>\n",
       "      <td>dog</td>\n",
       "    </tr>\n",
       "  </tbody>\n",
       "</table>\n",
       "</div>"
      ],
      "text/plain": [
       "           Image Category\n",
       "0  cat.11092.jpg      cat\n",
       "1   cat.8181.jpg      cat\n",
       "2   cat.1465.jpg      cat\n",
       "3   dog.1962.jpg      dog\n",
       "4  dog.10252.jpg      dog"
      ]
     },
     "execution_count": 27,
     "metadata": {},
     "output_type": "execute_result"
    }
   ],
   "source": [
    "df = pd.DataFrame({\"Image\":train_img_names, \"Category\": categories})\n",
    "df.head()"
   ]
  },
  {
   "cell_type": "code",
   "execution_count": 28,
   "id": "interracial-service",
   "metadata": {
    "execution": {
     "iopub.execute_input": "2021-06-01T12:00:59.825049Z",
     "iopub.status.busy": "2021-06-01T12:00:59.824147Z",
     "iopub.status.idle": "2021-06-01T12:00:59.985920Z",
     "shell.execute_reply": "2021-06-01T12:00:59.985167Z",
     "shell.execute_reply.started": "2021-06-01T11:18:08.691479Z"
    },
    "papermill": {
     "duration": 0.229417,
     "end_time": "2021-06-01T12:00:59.986064",
     "exception": false,
     "start_time": "2021-06-01T12:00:59.756647",
     "status": "completed"
    },
    "tags": []
   },
   "outputs": [
    {
     "data": {
      "text/plain": [
       "<AxesSubplot:xlabel='Category', ylabel='count'>"
      ]
     },
     "execution_count": 28,
     "metadata": {},
     "output_type": "execute_result"
    },
    {
     "data": {
      "image/png": "[encoded data removed]",
      "text/plain": [
       "<Figure size 864x720 with 1 Axes>"
      ]
     },
     "metadata": {
      "needs_background": "light"
     },
     "output_type": "display_data"
    }
   ],
   "source": [
    "plt.figure(figsize=(12,10))\n",
    "sns.countplot(data=df, x=\"Category\",palette=\"magma\")"
   ]
  },
  {
   "cell_type": "code",
   "execution_count": 29,
   "id": "recorded-convert",
   "metadata": {
    "execution": {
     "iopub.execute_input": "2021-06-01T12:01:00.114622Z",
     "iopub.status.busy": "2021-06-01T12:01:00.113647Z",
     "iopub.status.idle": "2021-06-01T12:01:00.306884Z",
     "shell.execute_reply": "2021-06-01T12:01:00.306217Z",
     "shell.execute_reply.started": "2021-06-01T11:18:08.836360Z"
    },
    "papermill": {
     "duration": 0.259936,
     "end_time": "2021-06-01T12:01:00.307038",
     "exception": false,
     "start_time": "2021-06-01T12:01:00.047102",
     "status": "completed"
    },
    "tags": []
   },
   "outputs": [
    {
     "data": {
      "text/plain": [
       "<matplotlib.image.AxesImage at 0x7f5f884a6b10>"
      ]
     },
     "execution_count": 29,
     "metadata": {},
     "output_type": "execute_result"
    },
    {
     "data": {
      "image/png": "[encoded data removed]",
      "text/plain": [
       "<Figure size 432x288 with 1 Axes>"
      ]
     },
     "metadata": {
      "needs_background": "light"
     },
     "output_type": "display_data"
    }
   ],
   "source": [
    "import random\n",
    "sample = random.choice(train_img_names)\n",
    "plt.imshow(plt.imread((\"/kaggle/working/train/\"+sample)))"
   ]
  },
  {
   "cell_type": "code",
   "execution_count": 30,
   "id": "typical-community",
   "metadata": {
    "execution": {
     "iopub.execute_input": "2021-06-01T12:01:00.441006Z",
     "iopub.status.busy": "2021-06-01T12:01:00.440359Z",
     "iopub.status.idle": "2021-06-01T12:01:00.648838Z",
     "shell.execute_reply": "2021-06-01T12:01:00.648077Z",
     "shell.execute_reply.started": "2021-06-01T11:18:09.033531Z"
    },
    "papermill": {
     "duration": 0.27725,
     "end_time": "2021-06-01T12:01:00.649027",
     "exception": false,
     "start_time": "2021-06-01T12:01:00.371777",
     "status": "completed"
    },
    "tags": []
   },
   "outputs": [],
   "source": [
    "from sklearn.model_selection import train_test_split\n",
    "train,validation= train_test_split(df, test_size=0.1)\n",
    "train = train.reset_index(drop=True)\n",
    "validation = validation.reset_index(drop=True)"
   ]
  },
  {
   "cell_type": "code",
   "execution_count": 31,
   "id": "involved-function",
   "metadata": {
    "execution": {
     "iopub.execute_input": "2021-06-01T12:01:00.795251Z",
     "iopub.status.busy": "2021-06-01T12:01:00.794433Z",
     "iopub.status.idle": "2021-06-01T12:01:00.797976Z",
     "shell.execute_reply": "2021-06-01T12:01:00.798735Z",
     "shell.execute_reply.started": "2021-06-01T11:18:09.923867Z"
    },
    "papermill": {
     "duration": 0.081552,
     "end_time": "2021-06-01T12:01:00.799013",
     "exception": false,
     "start_time": "2021-06-01T12:01:00.717461",
     "status": "completed"
    },
    "tags": []
   },
   "outputs": [
    {
     "name": "stdout",
     "output_type": "stream",
     "text": [
      "(22500, 2)\n",
      "(2500, 2)\n"
     ]
    }
   ],
   "source": [
    "print(train.shape)\n",
    "print(validation.shape)"
   ]
  },
  {
   "cell_type": "code",
   "execution_count": 32,
   "id": "falling-building",
   "metadata": {
    "execution": {
     "iopub.execute_input": "2021-06-01T12:01:02.643501Z",
     "iopub.status.busy": "2021-06-01T12:01:02.642650Z",
     "iopub.status.idle": "2021-06-01T12:01:03.009898Z",
     "shell.execute_reply": "2021-06-01T12:01:03.009391Z",
     "shell.execute_reply.started": "2021-06-01T11:18:09.933541Z"
    },
    "papermill": {
     "duration": 0.445829,
     "end_time": "2021-06-01T12:01:03.010061",
     "exception": false,
     "start_time": "2021-06-01T12:01:02.564232",
     "status": "completed"
    },
    "tags": []
   },
   "outputs": [
    {
     "ename": "NameError",
     "evalue": "name 'ImageDataGenerator' is not defined",
     "output_type": "error",
     "traceback": [
      "\u001b[0;31m---------------------------------------------------------------------------\u001b[0m",
      "\u001b[0;31mNameError\u001b[0m                                 Traceback (most recent call last)",
      "\u001b[0;32m<ipython-input-32-97a7aca8e683>\u001b[0m in \u001b[0;36m<module>\u001b[0;34m\u001b[0m\n\u001b[1;32m      1\u001b[0m \u001b[0;31m# All images will be rescaled by 1./255.\u001b[0m\u001b[0;34m\u001b[0m\u001b[0;34m\u001b[0m\u001b[0;34m\u001b[0m\u001b[0m\n\u001b[0;32m----> 2\u001b[0;31m train_datagen = ImageDataGenerator(rescale = 1./255.,\n\u001b[0m\u001b[1;32m      3\u001b[0m                                    \u001b[0mrotation_range\u001b[0m \u001b[0;34m=\u001b[0m \u001b[0;36m40\u001b[0m\u001b[0;34m,\u001b[0m\u001b[0;34m\u001b[0m\u001b[0;34m\u001b[0m\u001b[0m\n\u001b[1;32m      4\u001b[0m                                    \u001b[0mwidth_shift_range\u001b[0m \u001b[0;34m=\u001b[0m \u001b[0;36m0.2\u001b[0m\u001b[0;34m,\u001b[0m\u001b[0;34m\u001b[0m\u001b[0;34m\u001b[0m\u001b[0m\n\u001b[1;32m      5\u001b[0m                                    \u001b[0mheight_shift_range\u001b[0m \u001b[0;34m=\u001b[0m \u001b[0;36m0.2\u001b[0m\u001b[0;34m,\u001b[0m\u001b[0;34m\u001b[0m\u001b[0;34m\u001b[0m\u001b[0m\n",
      "\u001b[0;31mNameError\u001b[0m: name 'ImageDataGenerator' is not defined"
     ]
    }
   ],
   "source": [
    "# All images will be rescaled by 1./255.\n",
    "train_datagen = ImageDataGenerator(rescale = 1./255.,\n",
    "                                   rotation_range = 40,\n",
    "                                   width_shift_range = 0.2,\n",
    "                                   height_shift_range = 0.2,\n",
    "                                   shear_range = 0.2,\n",
    "                                   zoom_range = 0.2,\n",
    "                                   horizontal_flip = True)\n",
    "\n",
    "\n",
    "# --------------------\n",
    "# Flow training images in batches of 20 using train_datagen generator\n",
    "# --------------------\n",
    "train_generator = train_datagen.flow_from_dataframe(train,\n",
    "                                                    directory=\"./train\",\n",
    "                                                    x_col='Image',\n",
    "                                                    y_col='Category',\n",
    "                                                    batch_size=20,\n",
    "                                                    class_mode='binary',\n",
    "                                                    target_size=(150, 150)) "
   ]
  },
  {
   "cell_type": "code",
   "execution_count": 33,
   "id": "raised-variety",
   "metadata": {
    "execution": {
     "iopub.execute_input": "2021-06-01T12:01:03.150780Z",
     "iopub.status.busy": "2021-06-01T12:01:03.145690Z",
     "iopub.status.idle": "2021-06-01T12:01:03.171080Z",
     "shell.execute_reply": "2021-06-01T12:01:03.170384Z",
     "shell.execute_reply.started": "2021-06-01T11:18:10.153417Z"
    },
    "papermill": {
     "duration": 0.094952,
     "end_time": "2021-06-01T12:01:03.171245",
     "exception": false,
     "start_time": "2021-06-01T12:01:03.076293",
     "status": "completed"
    },
    "tags": []
   },
   "outputs": [
    {
     "ename": "NameError",
     "evalue": "name 'ImageDataGenerator' is not defined",
     "output_type": "error",
     "traceback": [
      "\u001b[0;31m---------------------------------------------------------------------------\u001b[0m",
      "\u001b[0;31mNameError\u001b[0m                                 Traceback (most recent call last)",
      "\u001b[0;32m<ipython-input-33-911abb5d8ec2>\u001b[0m in \u001b[0;36m<module>\u001b[0;34m\u001b[0m\n\u001b[1;32m      1\u001b[0m \u001b[0;31m# Note that the validation data should not be augmented!\u001b[0m\u001b[0;34m\u001b[0m\u001b[0;34m\u001b[0m\u001b[0;34m\u001b[0m\u001b[0m\n\u001b[0;32m----> 2\u001b[0;31m \u001b[0mvalidation_datagen\u001b[0m  \u001b[0;34m=\u001b[0m \u001b[0mImageDataGenerator\u001b[0m\u001b[0;34m(\u001b[0m \u001b[0mrescale\u001b[0m \u001b[0;34m=\u001b[0m \u001b[0;36m1.0\u001b[0m\u001b[0;34m/\u001b[0m\u001b[0;36m255.\u001b[0m\u001b[0;34m)\u001b[0m\u001b[0;34m\u001b[0m\u001b[0;34m\u001b[0m\u001b[0m\n\u001b[0m\u001b[1;32m      3\u001b[0m validation_generator =  validation_datagen.flow_from_dataframe(validation,\n\u001b[1;32m      4\u001b[0m                                                             \u001b[0mdirectory\u001b[0m\u001b[0;34m=\u001b[0m\u001b[0;34m\"./train\"\u001b[0m\u001b[0;34m,\u001b[0m\u001b[0;34m\u001b[0m\u001b[0;34m\u001b[0m\u001b[0m\n\u001b[1;32m      5\u001b[0m                                                               \u001b[0mx_col\u001b[0m\u001b[0;34m=\u001b[0m\u001b[0;34m'Image'\u001b[0m\u001b[0;34m,\u001b[0m\u001b[0;34m\u001b[0m\u001b[0;34m\u001b[0m\u001b[0m\n",
      "\u001b[0;31mNameError\u001b[0m: name 'ImageDataGenerator' is not defined"
     ]
    }
   ],
   "source": [
    "# Note that the validation data should not be augmented!\n",
    "validation_datagen  = ImageDataGenerator( rescale = 1.0/255.)\n",
    "validation_generator =  validation_datagen.flow_from_dataframe(validation,\n",
    "                                                            directory=\"./train\",\n",
    "                                                              x_col='Image',\n",
    "                                                             y_col='Category',\n",
    "                                                              batch_size=20,\n",
    "                                                              class_mode  = 'binary',\n",
    "                                                              target_size = (150, 150))"
   ]
  },
  {
   "cell_type": "code",
   "execution_count": 34,
   "id": "intellectual-coach",
   "metadata": {
    "execution": {
     "iopub.execute_input": "2021-06-01T12:01:03.332584Z",
     "iopub.status.busy": "2021-06-01T12:01:03.331852Z",
     "iopub.status.idle": "2021-06-01T12:01:03.335582Z",
     "shell.execute_reply": "2021-06-01T12:01:03.336129Z",
     "shell.execute_reply.started": "2021-06-01T11:18:10.188990Z"
    },
    "papermill": {
     "duration": 0.097462,
     "end_time": "2021-06-01T12:01:03.336332",
     "exception": false,
     "start_time": "2021-06-01T12:01:03.238870",
     "status": "completed"
    },
    "tags": []
   },
   "outputs": [
    {
     "ename": "NameError",
     "evalue": "name 'train_generator' is not defined",
     "output_type": "error",
     "traceback": [
      "\u001b[0;31m---------------------------------------------------------------------------\u001b[0m",
      "\u001b[0;31mNameError\u001b[0m                                 Traceback (most recent call last)",
      "\u001b[0;32m<ipython-input-34-ae35ce763436>\u001b[0m in \u001b[0;36m<module>\u001b[0;34m\u001b[0m\n\u001b[1;32m      1\u001b[0m \u001b[0;32mfrom\u001b[0m \u001b[0mtensorflow\u001b[0m\u001b[0;34m.\u001b[0m\u001b[0mkeras\u001b[0m\u001b[0;34m.\u001b[0m\u001b[0mcallbacks\u001b[0m \u001b[0;32mimport\u001b[0m \u001b[0mEarlyStopping\u001b[0m\u001b[0;34m\u001b[0m\u001b[0;34m\u001b[0m\u001b[0m\n\u001b[1;32m      2\u001b[0m \u001b[0mcallback\u001b[0m\u001b[0;34m=\u001b[0m\u001b[0mEarlyStopping\u001b[0m\u001b[0;34m(\u001b[0m\u001b[0mmonitor\u001b[0m\u001b[0;34m=\u001b[0m\u001b[0;34m\"val_loss\"\u001b[0m\u001b[0;34m,\u001b[0m \u001b[0mpatience\u001b[0m\u001b[0;34m=\u001b[0m\u001b[0;36m4\u001b[0m\u001b[0;34m)\u001b[0m\u001b[0;34m\u001b[0m\u001b[0;34m\u001b[0m\u001b[0m\n\u001b[0;32m----> 3\u001b[0;31m history=model.fit(train_generator, \n\u001b[0m\u001b[1;32m      4\u001b[0m                   \u001b[0mvalidation_data\u001b[0m\u001b[0;34m=\u001b[0m\u001b[0mvalidation_generator\u001b[0m\u001b[0;34m,\u001b[0m\u001b[0;34m\u001b[0m\u001b[0;34m\u001b[0m\u001b[0m\n\u001b[1;32m      5\u001b[0m                   \u001b[0msteps_per_epoch\u001b[0m \u001b[0;34m=\u001b[0m \u001b[0;36m100\u001b[0m\u001b[0;34m,\u001b[0m\u001b[0;34m\u001b[0m\u001b[0;34m\u001b[0m\u001b[0m\n",
      "\u001b[0;31mNameError\u001b[0m: name 'train_generator' is not defined"
     ]
    }
   ],
   "source": [
    "from tensorflow.keras.callbacks import EarlyStopping\n",
    "callback=EarlyStopping(monitor=\"val_loss\", patience=4)\n",
    "history=model.fit(train_generator, \n",
    "                  validation_data=validation_generator,\n",
    "                  steps_per_epoch = 100,\n",
    "                  epochs=20,\n",
    "                  validation_steps = 50,\n",
    "                  callbacks=[callback])"
   ]
  },
  {
   "cell_type": "code",
   "execution_count": 35,
   "id": "minor-conversation",
   "metadata": {
    "execution": {
     "iopub.execute_input": "2021-06-01T12:01:03.468799Z",
     "iopub.status.busy": "2021-06-01T12:01:03.468176Z",
     "iopub.status.idle": "2021-06-01T12:01:03.500533Z",
     "shell.execute_reply": "2021-06-01T12:01:03.501001Z",
     "shell.execute_reply.started": "2021-06-01T11:59:45.325718Z"
    },
    "papermill": {
     "duration": 0.099984,
     "end_time": "2021-06-01T12:01:03.501183",
     "exception": false,
     "start_time": "2021-06-01T12:01:03.401199",
     "status": "completed"
    },
    "tags": []
   },
   "outputs": [
    {
     "ename": "AttributeError",
     "evalue": "'NoneType' object has no attribute 'history'",
     "output_type": "error",
     "traceback": [
      "\u001b[0;31m---------------------------------------------------------------------------\u001b[0m",
      "\u001b[0;31mAttributeError\u001b[0m                            Traceback (most recent call last)",
      "\u001b[0;32m<ipython-input-35-d74fc89f1b2a>\u001b[0m in \u001b[0;36m<module>\u001b[0;34m\u001b[0m\n\u001b[1;32m      1\u001b[0m \u001b[0msns\u001b[0m\u001b[0;34m.\u001b[0m\u001b[0mset_style\u001b[0m\u001b[0;34m(\u001b[0m\u001b[0;34m\"darkgrid\"\u001b[0m\u001b[0;34m)\u001b[0m\u001b[0;34m\u001b[0m\u001b[0;34m\u001b[0m\u001b[0m\n\u001b[0;32m----> 2\u001b[0;31m \u001b[0mpd\u001b[0m\u001b[0;34m.\u001b[0m\u001b[0mDataFrame\u001b[0m\u001b[0;34m(\u001b[0m\u001b[0mmodel\u001b[0m\u001b[0;34m.\u001b[0m\u001b[0mhistory\u001b[0m\u001b[0;34m.\u001b[0m\u001b[0mhistory\u001b[0m\u001b[0;34m)\u001b[0m\u001b[0;34m.\u001b[0m\u001b[0mplot\u001b[0m\u001b[0;34m(\u001b[0m\u001b[0mfigsize\u001b[0m\u001b[0;34m=\u001b[0m\u001b[0;34m(\u001b[0m\u001b[0;36m15\u001b[0m\u001b[0;34m,\u001b[0m\u001b[0;36m10\u001b[0m\u001b[0;34m)\u001b[0m\u001b[0;34m)\u001b[0m\u001b[0;34m\u001b[0m\u001b[0;34m\u001b[0m\u001b[0m\n\u001b[0m",
      "\u001b[0;31mAttributeError\u001b[0m: 'NoneType' object has no attribute 'history'"
     ]
    }
   ],
   "source": [
    "sns.set_style(\"darkgrid\")\n",
    "pd.DataFrame(model.history.history).plot(figsize=(15,10))"
   ]
  },
  {
   "cell_type": "markdown",
   "id": "useful-configuration",
   "metadata": {
    "papermill": {
     "duration": 0.064058,
     "end_time": "2021-06-01T12:01:03.630556",
     "exception": false,
     "start_time": "2021-06-01T12:01:03.566498",
     "status": "completed"
    },
    "tags": []
   },
   "source": [
    "<font color=\"blue\">\n"
   ]
  }
 ],
 "metadata": {
  "kernelspec": {
   "display_name": "Python 3",
   "language": "python",
   "name": "python3"
  },
  "language_info": {
   "codemirror_mode": {
    "name": "ipython",
    "version": 3
   },
   "file_extension": ".py",
   "mimetype": "text/x-python",
   "name": "python",
   "nbconvert_exporter": "python",
   "pygments_lexer": "ipython3",
   "version": "3.7.10"
  },
  "papermill": {
   "default_parameters": {},
   "duration": 54.875426,
   "end_time": "2021-06-01T12:01:05.791394",
   "environment_variables": {},
   "exception": null,
   "input_path": "__notebook__.ipynb",
   "output_path": "__notebook__.ipynb",
   "parameters": {},
   "start_time": "2021-06-01T12:00:10.915968",
   "version": "2.3.3"
  }
 },
 "nbformat": 4,
 "nbformat_minor": 5
}
